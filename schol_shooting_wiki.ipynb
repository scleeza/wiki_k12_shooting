{
 "cells": [
  {
   "cell_type": "code",
   "execution_count": 1,
   "metadata": {},
   "outputs": [],
   "source": [
    "#!pip install --upgrade beautifulsoup4"
   ]
  },
  {
   "cell_type": "code",
   "execution_count": 2,
   "metadata": {},
   "outputs": [],
   "source": [
    "import requests\n",
    "import pandas as pd\n",
    "from datetime import datetime\n",
    "from datetime import date\n",
    "import time\n",
    "import pickle\n",
    "from bs4 import BeautifulSoup\n",
    "import warnings\n",
    "warnings.filterwarnings(\"ignore\")"
   ]
  },
  {
   "cell_type": "markdown",
   "metadata": {},
   "source": [
    "## 1. Build port "
   ]
  },
  {
   "cell_type": "code",
   "execution_count": 3,
   "metadata": {},
   "outputs": [
    {
     "name": "stdout",
     "output_type": "stream",
     "text": [
      "200\n"
     ]
    }
   ],
   "source": [
    "response = requests.get(\n",
    "    url='https://en.wikipedia.org/wiki/List_of_school_shootings_in_the_United_States'\n",
    ")\n",
    "print(response.status_code) # should be 200"
   ]
  },
  {
   "cell_type": "markdown",
   "metadata": {},
   "source": [
    "## 2. Table Scrapping"
   ]
  },
  {
   "cell_type": "code",
   "execution_count": 4,
   "metadata": {},
   "outputs": [
    {
     "name": "stdout",
     "output_type": "stream",
     "text": [
      "200\n"
     ]
    },
    {
     "data": {
      "text/html": [
       "<div>\n",
       "<style scoped>\n",
       "    .dataframe tbody tr th:only-of-type {\n",
       "        vertical-align: middle;\n",
       "    }\n",
       "\n",
       "    .dataframe tbody tr th {\n",
       "        vertical-align: top;\n",
       "    }\n",
       "\n",
       "    .dataframe thead th {\n",
       "        text-align: right;\n",
       "    }\n",
       "</style>\n",
       "<table border=\"1\" class=\"dataframe\">\n",
       "  <thead>\n",
       "    <tr style=\"text-align: right;\">\n",
       "      <th></th>\n",
       "      <th>Date</th>\n",
       "      <th>Location</th>\n",
       "      <th>Deaths</th>\n",
       "      <th>Injuries</th>\n",
       "      <th>Description</th>\n",
       "    </tr>\n",
       "  </thead>\n",
       "  <tbody>\n",
       "    <tr>\n",
       "      <th>0</th>\n",
       "      <td>February 29, 2000</td>\n",
       "      <td>Flint, Michigan</td>\n",
       "      <td>1</td>\n",
       "      <td>0</td>\n",
       "      <td>Shooting of Kayla Rolland: At Buell Elementary...</td>\n",
       "    </tr>\n",
       "    <tr>\n",
       "      <th>1</th>\n",
       "      <td>May 26, 2000</td>\n",
       "      <td>Lake Worth, Florida</td>\n",
       "      <td>1</td>\n",
       "      <td>0</td>\n",
       "      <td>13-year-old honor student, Nathaniel Brazill, ...</td>\n",
       "    </tr>\n",
       "    <tr>\n",
       "      <th>2</th>\n",
       "      <td>June 28, 2000</td>\n",
       "      <td>Seattle, Washington</td>\n",
       "      <td>2[n 1]</td>\n",
       "      <td>0</td>\n",
       "      <td>58-year-old Director of the Division of Pathol...</td>\n",
       "    </tr>\n",
       "    <tr>\n",
       "      <th>3</th>\n",
       "      <td>August 28, 2000</td>\n",
       "      <td>Fayetteville, Arkansas</td>\n",
       "      <td>2[n 1]</td>\n",
       "      <td>0</td>\n",
       "      <td>36-year-old James Easton Kelly, a PhD candidat...</td>\n",
       "    </tr>\n",
       "    <tr>\n",
       "      <th>4</th>\n",
       "      <td>September 26, 2000</td>\n",
       "      <td>New Orleans, Louisiana</td>\n",
       "      <td>0</td>\n",
       "      <td>2</td>\n",
       "      <td>13 year-olds Darrel Johnson, and Alfred Anders...</td>\n",
       "    </tr>\n",
       "  </tbody>\n",
       "</table>\n",
       "</div>"
      ],
      "text/plain": [
       "                 Date                Location  Deaths Injuries  \\\n",
       "0   February 29, 2000         Flint, Michigan       1        0   \n",
       "1        May 26, 2000     Lake Worth, Florida       1        0   \n",
       "2       June 28, 2000     Seattle, Washington  2[n 1]        0   \n",
       "3     August 28, 2000  Fayetteville, Arkansas  2[n 1]        0   \n",
       "4  September 26, 2000  New Orleans, Louisiana       0        2   \n",
       "\n",
       "                                         Description  \n",
       "0  Shooting of Kayla Rolland: At Buell Elementary...  \n",
       "1  13-year-old honor student, Nathaniel Brazill, ...  \n",
       "2  58-year-old Director of the Division of Pathol...  \n",
       "3  36-year-old James Easton Kelly, a PhD candidat...  \n",
       "4  13 year-olds Darrel Johnson, and Alfred Anders...  "
      ]
     },
     "execution_count": 4,
     "metadata": {},
     "output_type": "execute_result"
    }
   ],
   "source": [
    "response = requests.get(\n",
    "      url='https://en.wikipedia.org/wiki/List_of_school_shootings_in_the_United_States'\n",
    "#     url =r'https://en.wikipedia.org/wiki/List_of_school_shootings_in_the_United_States_(before_2000)'\n",
    ")\n",
    "print(response.status_code) # should be 200\n",
    "\n",
    "soup = BeautifulSoup(response.text,'lxml')\n",
    "\n",
    "# extract pure data \n",
    "data = []\n",
    "colum_names = []\n",
    "# find all sortabel tables\n",
    "for i in soup.find_all(name='table'):\n",
    "    \n",
    "    # find all column names \n",
    "    for j in i.find_all(name='th'):\n",
    "        colum_names.append(j.text.rstrip())\n",
    "    \n",
    "    # find each row\n",
    "    for k in i.find_all(name='tr'):\n",
    "        \n",
    "        each_row ={}\n",
    "        # each item in the row\n",
    "        for index,item in enumerate(k.find_all(name='td')):\n",
    "            each_row[colum_names[index]] = item.text.rstrip()\n",
    "        \n",
    "        data.append(each_row)\n",
    "        \n",
    "df = pd.DataFrame(data)\n",
    "\n",
    "df = df.dropna(axis=0).reset_index(drop=True) \n",
    "\n",
    "df.head()"
   ]
  },
  {
   "cell_type": "markdown",
   "metadata": {},
   "source": [
    "## 3. Scrapping Latitude and Longitude of citys"
   ]
  },
  {
   "cell_type": "code",
   "execution_count": 5,
   "metadata": {},
   "outputs": [
    {
     "ename": "KeyboardInterrupt",
     "evalue": "",
     "output_type": "error",
     "traceback": [
      "\u001b[0;31m---------------------------------------------------------------------------\u001b[0m",
      "\u001b[0;31mKeyboardInterrupt\u001b[0m                         Traceback (most recent call last)",
      "\u001b[0;32m<ipython-input-5-83890ad68097>\u001b[0m in \u001b[0;36m<module>\u001b[0;34m\u001b[0m\n\u001b[1;32m     16\u001b[0m                 )\n\u001b[1;32m     17\u001b[0m \u001b[0;34m\u001b[0m\u001b[0m\n\u001b[0;32m---> 18\u001b[0;31m                 \u001b[0mbs\u001b[0m \u001b[0;34m=\u001b[0m \u001b[0mBeautifulSoup\u001b[0m\u001b[0;34m(\u001b[0m\u001b[0mre_loc\u001b[0m\u001b[0;34m.\u001b[0m\u001b[0mtext\u001b[0m\u001b[0;34m,\u001b[0m\u001b[0;34m'lxml'\u001b[0m\u001b[0;34m)\u001b[0m\u001b[0;34m\u001b[0m\u001b[0;34m\u001b[0m\u001b[0m\n\u001b[0m\u001b[1;32m     19\u001b[0m                 \u001b[0mb\u001b[0m \u001b[0;34m=\u001b[0m \u001b[0mbs\u001b[0m\u001b[0;34m.\u001b[0m\u001b[0mfind\u001b[0m\u001b[0;34m(\u001b[0m\u001b[0;34m'span'\u001b[0m\u001b[0;34m,\u001b[0m\u001b[0mattrs\u001b[0m\u001b[0;34m=\u001b[0m\u001b[0;34m{\u001b[0m\u001b[0;34m'class'\u001b[0m\u001b[0;34m:\u001b[0m\u001b[0;34m'plainlinks nourlexpansion'\u001b[0m\u001b[0;34m}\u001b[0m\u001b[0;34m)\u001b[0m\u001b[0;34m\u001b[0m\u001b[0;34m\u001b[0m\u001b[0m\n\u001b[1;32m     20\u001b[0m                 \u001b[0meach_row\u001b[0m\u001b[0;34m[\u001b[0m\u001b[0;34m'cordinate'\u001b[0m\u001b[0;34m]\u001b[0m \u001b[0;34m=\u001b[0m \u001b[0;34m(\u001b[0m\u001b[0mb\u001b[0m\u001b[0;34m.\u001b[0m\u001b[0mfind\u001b[0m\u001b[0;34m(\u001b[0m\u001b[0mname\u001b[0m\u001b[0;34m=\u001b[0m\u001b[0;34m'a'\u001b[0m\u001b[0;34m,\u001b[0m\u001b[0mattrs\u001b[0m\u001b[0;34m=\u001b[0m\u001b[0;34m{\u001b[0m\u001b[0;34m\"class\"\u001b[0m\u001b[0;34m:\u001b[0m\u001b[0;34m\"external text\"\u001b[0m\u001b[0;34m,\u001b[0m \u001b[0;34m\"rel\"\u001b[0m\u001b[0;34m:\u001b[0m\u001b[0;34m\"nofollow\"\u001b[0m\u001b[0;34m}\u001b[0m\u001b[0;34m)\u001b[0m\u001b[0;34m.\u001b[0m\u001b[0mfind\u001b[0m\u001b[0;34m(\u001b[0m\u001b[0mname\u001b[0m\u001b[0;34m=\u001b[0m\u001b[0;34m'span'\u001b[0m\u001b[0;34m,\u001b[0m\u001b[0mattrs\u001b[0m\u001b[0;34m=\u001b[0m\u001b[0;34m{\u001b[0m\u001b[0;34m'class'\u001b[0m\u001b[0;34m:\u001b[0m\u001b[0;34m'geo-dec'\u001b[0m\u001b[0;34m}\u001b[0m\u001b[0;34m)\u001b[0m\u001b[0;34m.\u001b[0m\u001b[0mtext\u001b[0m\u001b[0;34m)\u001b[0m\u001b[0;34m\u001b[0m\u001b[0;34m\u001b[0m\u001b[0m\n",
      "\u001b[0;32m~/opt/anaconda3/lib/python3.7/site-packages/bs4/__init__.py\u001b[0m in \u001b[0;36m__init__\u001b[0;34m(self, markup, features, builder, parse_only, from_encoding, exclude_encodings, element_classes, **kwargs)\u001b[0m\n\u001b[1;32m    346\u001b[0m             \u001b[0mself\u001b[0m\u001b[0;34m.\u001b[0m\u001b[0mreset\u001b[0m\u001b[0;34m(\u001b[0m\u001b[0;34m)\u001b[0m\u001b[0;34m\u001b[0m\u001b[0;34m\u001b[0m\u001b[0m\n\u001b[1;32m    347\u001b[0m             \u001b[0;32mtry\u001b[0m\u001b[0;34m:\u001b[0m\u001b[0;34m\u001b[0m\u001b[0;34m\u001b[0m\u001b[0m\n\u001b[0;32m--> 348\u001b[0;31m                 \u001b[0mself\u001b[0m\u001b[0;34m.\u001b[0m\u001b[0m_feed\u001b[0m\u001b[0;34m(\u001b[0m\u001b[0;34m)\u001b[0m\u001b[0;34m\u001b[0m\u001b[0;34m\u001b[0m\u001b[0m\n\u001b[0m\u001b[1;32m    349\u001b[0m                 \u001b[0msuccess\u001b[0m \u001b[0;34m=\u001b[0m \u001b[0;32mTrue\u001b[0m\u001b[0;34m\u001b[0m\u001b[0;34m\u001b[0m\u001b[0m\n\u001b[1;32m    350\u001b[0m                 \u001b[0;32mbreak\u001b[0m\u001b[0;34m\u001b[0m\u001b[0;34m\u001b[0m\u001b[0m\n",
      "\u001b[0;32m~/opt/anaconda3/lib/python3.7/site-packages/bs4/__init__.py\u001b[0m in \u001b[0;36m_feed\u001b[0;34m(self)\u001b[0m\n\u001b[1;32m    432\u001b[0m         \u001b[0mself\u001b[0m\u001b[0;34m.\u001b[0m\u001b[0mbuilder\u001b[0m\u001b[0;34m.\u001b[0m\u001b[0mreset\u001b[0m\u001b[0;34m(\u001b[0m\u001b[0;34m)\u001b[0m\u001b[0;34m\u001b[0m\u001b[0;34m\u001b[0m\u001b[0m\n\u001b[1;32m    433\u001b[0m \u001b[0;34m\u001b[0m\u001b[0m\n\u001b[0;32m--> 434\u001b[0;31m         \u001b[0mself\u001b[0m\u001b[0;34m.\u001b[0m\u001b[0mbuilder\u001b[0m\u001b[0;34m.\u001b[0m\u001b[0mfeed\u001b[0m\u001b[0;34m(\u001b[0m\u001b[0mself\u001b[0m\u001b[0;34m.\u001b[0m\u001b[0mmarkup\u001b[0m\u001b[0;34m)\u001b[0m\u001b[0;34m\u001b[0m\u001b[0;34m\u001b[0m\u001b[0m\n\u001b[0m\u001b[1;32m    435\u001b[0m         \u001b[0;31m# Close out any unfinished strings and close all the open tags.\u001b[0m\u001b[0;34m\u001b[0m\u001b[0;34m\u001b[0m\u001b[0;34m\u001b[0m\u001b[0m\n\u001b[1;32m    436\u001b[0m         \u001b[0mself\u001b[0m\u001b[0;34m.\u001b[0m\u001b[0mendData\u001b[0m\u001b[0;34m(\u001b[0m\u001b[0;34m)\u001b[0m\u001b[0;34m\u001b[0m\u001b[0;34m\u001b[0m\u001b[0m\n",
      "\u001b[0;32m~/opt/anaconda3/lib/python3.7/site-packages/bs4/builder/_lxml.py\u001b[0m in \u001b[0;36mfeed\u001b[0;34m(self, markup)\u001b[0m\n\u001b[1;32m    322\u001b[0m         \u001b[0;32mtry\u001b[0m\u001b[0;34m:\u001b[0m\u001b[0;34m\u001b[0m\u001b[0;34m\u001b[0m\u001b[0m\n\u001b[1;32m    323\u001b[0m             \u001b[0mself\u001b[0m\u001b[0;34m.\u001b[0m\u001b[0mparser\u001b[0m \u001b[0;34m=\u001b[0m \u001b[0mself\u001b[0m\u001b[0;34m.\u001b[0m\u001b[0mparser_for\u001b[0m\u001b[0;34m(\u001b[0m\u001b[0mencoding\u001b[0m\u001b[0;34m)\u001b[0m\u001b[0;34m\u001b[0m\u001b[0;34m\u001b[0m\u001b[0m\n\u001b[0;32m--> 324\u001b[0;31m             \u001b[0mself\u001b[0m\u001b[0;34m.\u001b[0m\u001b[0mparser\u001b[0m\u001b[0;34m.\u001b[0m\u001b[0mfeed\u001b[0m\u001b[0;34m(\u001b[0m\u001b[0mmarkup\u001b[0m\u001b[0;34m)\u001b[0m\u001b[0;34m\u001b[0m\u001b[0;34m\u001b[0m\u001b[0m\n\u001b[0m\u001b[1;32m    325\u001b[0m             \u001b[0mself\u001b[0m\u001b[0;34m.\u001b[0m\u001b[0mparser\u001b[0m\u001b[0;34m.\u001b[0m\u001b[0mclose\u001b[0m\u001b[0;34m(\u001b[0m\u001b[0;34m)\u001b[0m\u001b[0;34m\u001b[0m\u001b[0;34m\u001b[0m\u001b[0m\n\u001b[1;32m    326\u001b[0m         \u001b[0;32mexcept\u001b[0m \u001b[0;34m(\u001b[0m\u001b[0mUnicodeDecodeError\u001b[0m\u001b[0;34m,\u001b[0m \u001b[0mLookupError\u001b[0m\u001b[0;34m,\u001b[0m \u001b[0metree\u001b[0m\u001b[0;34m.\u001b[0m\u001b[0mParserError\u001b[0m\u001b[0;34m)\u001b[0m \u001b[0;32mas\u001b[0m \u001b[0me\u001b[0m\u001b[0;34m:\u001b[0m\u001b[0;34m\u001b[0m\u001b[0;34m\u001b[0m\u001b[0m\n",
      "\u001b[0;32msrc/lxml/parser.pxi\u001b[0m in \u001b[0;36mlxml.etree._FeedParser.feed\u001b[0;34m()\u001b[0m\n",
      "\u001b[0;32msrc/lxml/parser.pxi\u001b[0m in \u001b[0;36mlxml.etree._FeedParser.feed\u001b[0;34m()\u001b[0m\n",
      "\u001b[0;32msrc/lxml/parsertarget.pxi\u001b[0m in \u001b[0;36mlxml.etree._TargetParserContext._handleParseResult\u001b[0;34m()\u001b[0m\n",
      "\u001b[0;32msrc/lxml/parsertarget.pxi\u001b[0m in \u001b[0;36mlxml.etree._TargetParserContext._handleParseResult\u001b[0;34m()\u001b[0m\n",
      "\u001b[0;32msrc/lxml/etree.pyx\u001b[0m in \u001b[0;36mlxml.etree._ExceptionContext._raise_if_stored\u001b[0;34m()\u001b[0m\n",
      "\u001b[0;32msrc/lxml/saxparser.pxi\u001b[0m in \u001b[0;36mlxml.etree._handleSaxTargetStartNoNs\u001b[0;34m()\u001b[0m\n",
      "\u001b[0;32msrc/lxml/saxparser.pxi\u001b[0m in \u001b[0;36mlxml.etree._callTargetSaxStart\u001b[0;34m()\u001b[0m\n",
      "\u001b[0;32msrc/lxml/parsertarget.pxi\u001b[0m in \u001b[0;36mlxml.etree._PythonSaxParserTarget._handleSaxStart\u001b[0;34m()\u001b[0m\n",
      "\u001b[0;32m~/opt/anaconda3/lib/python3.7/site-packages/bs4/builder/_lxml.py\u001b[0m in \u001b[0;36mstart\u001b[0;34m(self, name, attrs, nsmap)\u001b[0m\n\u001b[1;32m    255\u001b[0m         \u001b[0mnamespace\u001b[0m\u001b[0;34m,\u001b[0m \u001b[0mname\u001b[0m \u001b[0;34m=\u001b[0m \u001b[0mself\u001b[0m\u001b[0;34m.\u001b[0m\u001b[0m_getNsTag\u001b[0m\u001b[0;34m(\u001b[0m\u001b[0mname\u001b[0m\u001b[0;34m)\u001b[0m\u001b[0;34m\u001b[0m\u001b[0;34m\u001b[0m\u001b[0m\n\u001b[1;32m    256\u001b[0m         \u001b[0mnsprefix\u001b[0m \u001b[0;34m=\u001b[0m \u001b[0mself\u001b[0m\u001b[0;34m.\u001b[0m\u001b[0m_prefix_for_namespace\u001b[0m\u001b[0;34m(\u001b[0m\u001b[0mnamespace\u001b[0m\u001b[0;34m)\u001b[0m\u001b[0;34m\u001b[0m\u001b[0;34m\u001b[0m\u001b[0m\n\u001b[0;32m--> 257\u001b[0;31m         \u001b[0mself\u001b[0m\u001b[0;34m.\u001b[0m\u001b[0msoup\u001b[0m\u001b[0;34m.\u001b[0m\u001b[0mhandle_starttag\u001b[0m\u001b[0;34m(\u001b[0m\u001b[0mname\u001b[0m\u001b[0;34m,\u001b[0m \u001b[0mnamespace\u001b[0m\u001b[0;34m,\u001b[0m \u001b[0mnsprefix\u001b[0m\u001b[0;34m,\u001b[0m \u001b[0mattrs\u001b[0m\u001b[0;34m)\u001b[0m\u001b[0;34m\u001b[0m\u001b[0;34m\u001b[0m\u001b[0m\n\u001b[0m\u001b[1;32m    258\u001b[0m \u001b[0;34m\u001b[0m\u001b[0m\n\u001b[1;32m    259\u001b[0m     \u001b[0;32mdef\u001b[0m \u001b[0m_prefix_for_namespace\u001b[0m\u001b[0;34m(\u001b[0m\u001b[0mself\u001b[0m\u001b[0;34m,\u001b[0m \u001b[0mnamespace\u001b[0m\u001b[0;34m)\u001b[0m\u001b[0;34m:\u001b[0m\u001b[0;34m\u001b[0m\u001b[0;34m\u001b[0m\u001b[0m\n",
      "\u001b[0;32m~/opt/anaconda3/lib/python3.7/site-packages/bs4/__init__.py\u001b[0m in \u001b[0;36mhandle_starttag\u001b[0;34m(self, name, namespace, nsprefix, attrs, sourceline, sourcepos)\u001b[0m\n\u001b[1;32m    704\u001b[0m             \u001b[0mself\u001b[0m\u001b[0;34m,\u001b[0m \u001b[0mself\u001b[0m\u001b[0;34m.\u001b[0m\u001b[0mbuilder\u001b[0m\u001b[0;34m,\u001b[0m \u001b[0mname\u001b[0m\u001b[0;34m,\u001b[0m \u001b[0mnamespace\u001b[0m\u001b[0;34m,\u001b[0m \u001b[0mnsprefix\u001b[0m\u001b[0;34m,\u001b[0m \u001b[0mattrs\u001b[0m\u001b[0;34m,\u001b[0m\u001b[0;34m\u001b[0m\u001b[0;34m\u001b[0m\u001b[0m\n\u001b[1;32m    705\u001b[0m             \u001b[0mself\u001b[0m\u001b[0;34m.\u001b[0m\u001b[0mcurrentTag\u001b[0m\u001b[0;34m,\u001b[0m \u001b[0mself\u001b[0m\u001b[0;34m.\u001b[0m\u001b[0m_most_recent_element\u001b[0m\u001b[0;34m,\u001b[0m\u001b[0;34m\u001b[0m\u001b[0;34m\u001b[0m\u001b[0m\n\u001b[0;32m--> 706\u001b[0;31m             \u001b[0msourceline\u001b[0m\u001b[0;34m=\u001b[0m\u001b[0msourceline\u001b[0m\u001b[0;34m,\u001b[0m \u001b[0msourcepos\u001b[0m\u001b[0;34m=\u001b[0m\u001b[0msourcepos\u001b[0m\u001b[0;34m\u001b[0m\u001b[0;34m\u001b[0m\u001b[0m\n\u001b[0m\u001b[1;32m    707\u001b[0m         )\n\u001b[1;32m    708\u001b[0m         \u001b[0;32mif\u001b[0m \u001b[0mtag\u001b[0m \u001b[0;32mis\u001b[0m \u001b[0;32mNone\u001b[0m\u001b[0;34m:\u001b[0m\u001b[0;34m\u001b[0m\u001b[0;34m\u001b[0m\u001b[0m\n",
      "\u001b[0;32m~/opt/anaconda3/lib/python3.7/site-packages/bs4/element.py\u001b[0m in \u001b[0;36m__init__\u001b[0;34m(self, parser, builder, name, namespace, prefix, attrs, parent, previous, is_xml, sourceline, sourcepos, can_be_empty_element, cdata_list_attributes, preserve_whitespace_tags)\u001b[0m\n\u001b[1;32m   1117\u001b[0m             \u001b[0;32mif\u001b[0m \u001b[0mbuilder\u001b[0m \u001b[0;32mis\u001b[0m \u001b[0;32mnot\u001b[0m \u001b[0;32mNone\u001b[0m \u001b[0;32mand\u001b[0m \u001b[0mbuilder\u001b[0m\u001b[0;34m.\u001b[0m\u001b[0mcdata_list_attributes\u001b[0m\u001b[0;34m:\u001b[0m\u001b[0;34m\u001b[0m\u001b[0;34m\u001b[0m\u001b[0m\n\u001b[1;32m   1118\u001b[0m                 attrs = builder._replace_cdata_list_attribute_values(\n\u001b[0;32m-> 1119\u001b[0;31m                     self.name, attrs)\n\u001b[0m\u001b[1;32m   1120\u001b[0m             \u001b[0;32melse\u001b[0m\u001b[0;34m:\u001b[0m\u001b[0;34m\u001b[0m\u001b[0;34m\u001b[0m\u001b[0m\n\u001b[1;32m   1121\u001b[0m                 \u001b[0mattrs\u001b[0m \u001b[0;34m=\u001b[0m \u001b[0mdict\u001b[0m\u001b[0;34m(\u001b[0m\u001b[0mattrs\u001b[0m\u001b[0;34m)\u001b[0m\u001b[0;34m\u001b[0m\u001b[0;34m\u001b[0m\u001b[0m\n",
      "\u001b[0;32m~/opt/anaconda3/lib/python3.7/site-packages/bs4/builder/__init__.py\u001b[0m in \u001b[0;36m_replace_cdata_list_attribute_values\u001b[0;34m(self, tag_name, attrs)\u001b[0m\n\u001b[1;32m    308\u001b[0m                     \u001b[0mvalue\u001b[0m \u001b[0;34m=\u001b[0m \u001b[0mattrs\u001b[0m\u001b[0;34m[\u001b[0m\u001b[0mattr\u001b[0m\u001b[0;34m]\u001b[0m\u001b[0;34m\u001b[0m\u001b[0;34m\u001b[0m\u001b[0m\n\u001b[1;32m    309\u001b[0m                     \u001b[0;32mif\u001b[0m \u001b[0misinstance\u001b[0m\u001b[0;34m(\u001b[0m\u001b[0mvalue\u001b[0m\u001b[0;34m,\u001b[0m \u001b[0mstr\u001b[0m\u001b[0;34m)\u001b[0m\u001b[0;34m:\u001b[0m\u001b[0;34m\u001b[0m\u001b[0;34m\u001b[0m\u001b[0m\n\u001b[0;32m--> 310\u001b[0;31m                         \u001b[0mvalues\u001b[0m \u001b[0;34m=\u001b[0m \u001b[0mnonwhitespace_re\u001b[0m\u001b[0;34m.\u001b[0m\u001b[0mfindall\u001b[0m\u001b[0;34m(\u001b[0m\u001b[0mvalue\u001b[0m\u001b[0;34m)\u001b[0m\u001b[0;34m\u001b[0m\u001b[0;34m\u001b[0m\u001b[0m\n\u001b[0m\u001b[1;32m    311\u001b[0m                     \u001b[0;32melse\u001b[0m\u001b[0;34m:\u001b[0m\u001b[0;34m\u001b[0m\u001b[0;34m\u001b[0m\u001b[0m\n\u001b[1;32m    312\u001b[0m                         \u001b[0;31m# html5lib sometimes calls setAttributes twice\u001b[0m\u001b[0;34m\u001b[0m\u001b[0;34m\u001b[0m\u001b[0;34m\u001b[0m\u001b[0m\n",
      "\u001b[0;31mKeyboardInterrupt\u001b[0m: "
     ]
    }
   ],
   "source": [
    "data = []\n",
    "loc_href = []\n",
    "for i in soup.find_all(name='table',attrs={'class':'sortable wikitable'}):\n",
    "    for j in i.find_all(name='tr'):\n",
    "        \n",
    "        each_row ={}\n",
    "        iter_ = iter(j.find_all('td'))\n",
    "        while True:\n",
    "            try:\n",
    "                each_row['Date']=next(iter_).text.rstrip()\n",
    "                loc = next(iter_)\n",
    "                each_row['Location']=loc.text.rstrip()\n",
    "                # find latitude and logitude\n",
    "                re_loc = requests.get(\n",
    "                    url='https://en.wikipedia.org{}'.format(loc.a['href'])\n",
    "                )\n",
    "\n",
    "                bs = BeautifulSoup(re_loc.text,'lxml')\n",
    "                b = bs.find('span',attrs={'class':'plainlinks nourlexpansion'})\n",
    "                each_row['cordinate'] = (b.find(name='a',attrs={\"class\":\"external text\", \"rel\":\"nofollow\"}).find(name='span',attrs={'class':'geo-dec'}).text)\n",
    "                # end\n",
    "                \n",
    "                \n",
    "                #loc_href.append(loc.a['href'])\n",
    "                each_row['Deaths']=next(iter_).text.rstrip()\n",
    "                each_row['Injuries']=next(iter_).text.rstrip()\n",
    "                each_row['Description']=next(iter_).text.rstrip()\n",
    "            except StopIteration: \n",
    "                break\n",
    "            \n",
    "        data.append(each_row)\n",
    "        #print('\\n')\n",
    "        "
   ]
  },
  {
   "cell_type": "code",
   "execution_count": 6,
   "metadata": {},
   "outputs": [],
   "source": [
    "with open('raw_data.pkl','wb') as f:\n",
    "    pickle.dump(data,f)"
   ]
  },
  {
   "cell_type": "markdown",
   "metadata": {},
   "source": [
    "## 4. Data Clean "
   ]
  },
  {
   "cell_type": "code",
   "execution_count": 7,
   "metadata": {},
   "outputs": [],
   "source": [
    "df = pd.DataFrame(data[1:])\n",
    "\n",
    "df = df.dropna(axis=0).reset_index(drop=True)\n",
    "\n",
    "df[['City','State']]=df.Location.str.split(',',expand=True)\n",
    "df.drop(columns=['Location'],inplace=True)\n",
    "\n",
    "df['Deaths'] = df.Deaths.str.extract(r'(\\d+)')\n",
    "df['Injuries'] = df.Injuries.str.extract(r'(\\d+)')\n",
    "\n",
    "\n",
    "df[['Latitude','Longitude']] = df.cordinate.str.split(' ',expand=True)\n",
    "df.drop(columns=['cordinate'],inplace =True)\n",
    "\n",
    "\n",
    "df['Latitude'] = df.Latitude.str.extract(r'(\\d+\\.\\d+)')\n",
    "df['Longitude'] = df.Longitude.str.extract(r'(\\d+\\.\\d+)')\n",
    "\n",
    "df['Longitude'] = df['Longitude'].apply(lambda x: '-'+x)\n",
    "\n",
    "df['Longitude']= df['Longitude'].astype(float)\n",
    "df['Latitude'] = df['Latitude'].astype(float)\n",
    "\n",
    "df['Date'] = df['Date'].apply(lambda x:datetime.strptime(x,'%B %d, %Y'))\n",
    "df['Description'] =df['Description'].str.replace(r'(\\[\\d+\\])*','')"
   ]
  },
  {
   "cell_type": "code",
   "execution_count": null,
   "metadata": {},
   "outputs": [],
   "source": [
    "df.isna().any()"
   ]
  },
  {
   "cell_type": "code",
   "execution_count": 8,
   "metadata": {},
   "outputs": [],
   "source": [
    "with open('processed_data.pkl','wb') as f:\n",
    "    pickle.dump(df,f)"
   ]
  },
  {
   "cell_type": "markdown",
   "metadata": {},
   "source": [
    "## 5.Data visualization"
   ]
  },
  {
   "cell_type": "code",
   "execution_count": 9,
   "metadata": {},
   "outputs": [],
   "source": [
    "df = pd.read_csv('processed_data.csv')"
   ]
  },
  {
   "cell_type": "code",
   "execution_count": 10,
   "metadata": {},
   "outputs": [],
   "source": [
    "df['Date'] = pd.to_datetime(df.Date)"
   ]
  },
  {
   "cell_type": "code",
   "execution_count": 11,
   "metadata": {},
   "outputs": [],
   "source": [
    "df['Casualty'] =df['Deaths'].astype(int)+df['Injuries'].astype(int)\n",
    "df['Year'] = df.Date.apply(lambda x:x.year)"
   ]
  },
  {
   "cell_type": "code",
   "execution_count": 12,
   "metadata": {},
   "outputs": [],
   "source": [
    "df = df[df['Year']>=2010].reset_index(drop=True)"
   ]
  },
  {
   "cell_type": "code",
   "execution_count": 13,
   "metadata": {},
   "outputs": [],
   "source": [
    "import altair as alt\n",
    "from vega_datasets import data\n",
    "\n",
    "airports = data.airports.url\n",
    "states = alt.topo_feature(data.us_10m.url, feature='states')\n",
    "\n",
    "\n",
    "\n",
    "\n",
    "# US states background\n",
    "background = alt.Chart(states).mark_geoshape(\n",
    "    fill='gray',\n",
    "    stroke='white'\n",
    ").properties(\n",
    "    width=500,\n",
    "    height=300\n",
    ").project('albersUsa')\n",
    "\n",
    "\n",
    "\n",
    "# airport positions on background\n",
    "deaths = alt.Chart(df).transform_aggregate(\n",
    "    latitude='mean(Latitude)',\n",
    "    longitude='mean(Longitude)',\n",
    "    Deaths='sum(Deaths)',\n",
    "    Injuries = 'sum(Injuries)',\n",
    "    groupby=['State','City']\n",
    ").mark_circle().encode(\n",
    "    longitude='longitude:Q',\n",
    "    latitude='latitude:Q',\n",
    "    size=alt.Size('Deaths:Q', title='Number of Cases',legend = None),\n",
    "    color=alt.value('maroon'),\n",
    "    #color= 'Deaths:Q',\n",
    "    \n",
    "    tooltip=['State:N','City:N','Deaths:Q','Injuries:Q']\n",
    ").properties(\n",
    "    title='Shooting casualties in US'\n",
    ")"
   ]
  },
  {
   "cell_type": "code",
   "execution_count": 14,
   "metadata": {},
   "outputs": [],
   "source": [
    "casualty = alt.Chart(df).mark_bar(opacity=0.7).transform_aggregate(\n",
    "    Casualty = 'sum(Casualty)',\n",
    "    Deaths='sum(Deaths)',\n",
    "    Injuries = 'sum(Injuries)',\n",
    "    groupby=['Year']\n",
    ").encode(\n",
    "    x='Year:O',\n",
    "    y=alt.Y('Casualty:Q', stack=None),\n",
    "    tooltip=['Year:O','Deaths:Q','Injuries:Q']\n",
    ")\n",
    "deaths_count = alt.Chart(df).mark_bar(opacity=0.7).transform_aggregate(\n",
    "    Deaths='sum(Deaths)',\n",
    "    groupby=['Year']\n",
    ").encode(\n",
    "    x='Year:O',\n",
    "    y=alt.Y('Deaths:Q', stack=None),\n",
    "    color = alt.value('maroon'),\n",
    "    tooltip=['Year:O','Deaths:Q']\n",
    ")\n",
    "death_specific =alt.Chart(df[df['State'].isin([' Texas',' Oregon'])]).mark_bar(opacity=0.7).transform_aggregate(\n",
    "    Deaths='sum(Deaths)',\n",
    "    groupby=['Year']\n",
    ").encode(\n",
    "    x='Year:O',\n",
    "    y=alt.Y('Deaths:Q', stack=None),\n",
    "    color = alt.value('orange'),\n",
    "    tooltip=['Year:O','Deaths:Q']\n",
    ")"
   ]
  },
  {
   "cell_type": "code",
   "execution_count": 15,
   "metadata": {},
   "outputs": [
    {
     "data": {
      "text/html": [
       "\n",
       "<div id=\"altair-viz-b108997638784a7da29dc1dcb7dbd31f\"></div>\n",
       "<script type=\"text/javascript\">\n",
       "  (function(spec, embedOpt){\n",
       "    let outputDiv = document.currentScript.previousElementSibling;\n",
       "    if (outputDiv.id !== \"altair-viz-b108997638784a7da29dc1dcb7dbd31f\") {\n",
       "      outputDiv = document.getElementById(\"altair-viz-b108997638784a7da29dc1dcb7dbd31f\");\n",
       "    }\n",
       "    const paths = {\n",
       "      \"vega\": \"https://cdn.jsdelivr.net/npm//vega@5?noext\",\n",
       "      \"vega-lib\": \"https://cdn.jsdelivr.net/npm//vega-lib?noext\",\n",
       "      \"vega-lite\": \"https://cdn.jsdelivr.net/npm//vega-lite@4.8.1?noext\",\n",
       "      \"vega-embed\": \"https://cdn.jsdelivr.net/npm//vega-embed@6?noext\",\n",
       "    };\n",
       "\n",
       "    function loadScript(lib) {\n",
       "      return new Promise(function(resolve, reject) {\n",
       "        var s = document.createElement('script');\n",
       "        s.src = paths[lib];\n",
       "        s.async = true;\n",
       "        s.onload = () => resolve(paths[lib]);\n",
       "        s.onerror = () => reject(`Error loading script: ${paths[lib]}`);\n",
       "        document.getElementsByTagName(\"head\")[0].appendChild(s);\n",
       "      });\n",
       "    }\n",
       "\n",
       "    function showError(err) {\n",
       "      outputDiv.innerHTML = `<div class=\"error\" style=\"color:red;\">${err}</div>`;\n",
       "      throw err;\n",
       "    }\n",
       "\n",
       "    function displayChart(vegaEmbed) {\n",
       "      vegaEmbed(outputDiv, spec, embedOpt)\n",
       "        .catch(err => showError(`Javascript Error: ${err.message}<br>This usually means there's a typo in your chart specification. See the javascript console for the full traceback.`));\n",
       "    }\n",
       "\n",
       "    if(typeof define === \"function\" && define.amd) {\n",
       "      requirejs.config({paths});\n",
       "      require([\"vega-embed\"], displayChart, err => showError(`Error loading script: ${err.message}`));\n",
       "    } else if (typeof vegaEmbed === \"function\") {\n",
       "      displayChart(vegaEmbed);\n",
       "    } else {\n",
       "      loadScript(\"vega\")\n",
       "        .then(() => loadScript(\"vega-lite\"))\n",
       "        .then(() => loadScript(\"vega-embed\"))\n",
       "        .catch(showError)\n",
       "        .then(() => displayChart(vegaEmbed));\n",
       "    }\n",
       "  })({\"config\": {\"view\": {\"continuousWidth\": 400, \"continuousHeight\": 300}}, \"hconcat\": [{\"layer\": [{\"data\": {\"url\": \"https://vega.github.io/vega-datasets/data/us-10m.json\", \"format\": {\"feature\": \"states\", \"type\": \"topojson\"}}, \"mark\": {\"type\": \"geoshape\", \"fill\": \"gray\", \"stroke\": \"white\"}, \"height\": 300, \"projection\": {\"type\": \"albersUsa\"}, \"width\": 500}, {\"data\": {\"name\": \"data-086529696c9c2d2cac2cf1f7099477d4\"}, \"mark\": \"circle\", \"encoding\": {\"color\": {\"value\": \"maroon\"}, \"latitude\": {\"field\": \"latitude\", \"type\": \"quantitative\"}, \"longitude\": {\"field\": \"longitude\", \"type\": \"quantitative\"}, \"size\": {\"type\": \"quantitative\", \"field\": \"Deaths\", \"legend\": null, \"title\": \"Number of Cases\"}, \"tooltip\": [{\"type\": \"nominal\", \"field\": \"State\"}, {\"type\": \"nominal\", \"field\": \"City\"}, {\"type\": \"quantitative\", \"field\": \"Deaths\"}, {\"type\": \"quantitative\", \"field\": \"Injuries\"}]}, \"title\": \"Shooting casualties in US\", \"transform\": [{\"aggregate\": [{\"op\": \"mean\", \"field\": \"Latitude\", \"as\": \"latitude\"}, {\"op\": \"mean\", \"field\": \"Longitude\", \"as\": \"longitude\"}, {\"op\": \"sum\", \"field\": \"Deaths\", \"as\": \"Deaths\"}, {\"op\": \"sum\", \"field\": \"Injuries\", \"as\": \"Injuries\"}], \"groupby\": [\"State\", \"City\"]}]}]}, {\"layer\": [{\"mark\": {\"type\": \"bar\", \"opacity\": 0.7}, \"encoding\": {\"tooltip\": [{\"type\": \"ordinal\", \"field\": \"Year\"}, {\"type\": \"quantitative\", \"field\": \"Deaths\"}, {\"type\": \"quantitative\", \"field\": \"Injuries\"}], \"x\": {\"type\": \"ordinal\", \"field\": \"Year\"}, \"y\": {\"type\": \"quantitative\", \"field\": \"Casualty\", \"stack\": null}}, \"transform\": [{\"aggregate\": [{\"op\": \"sum\", \"field\": \"Casualty\", \"as\": \"Casualty\"}, {\"op\": \"sum\", \"field\": \"Deaths\", \"as\": \"Deaths\"}, {\"op\": \"sum\", \"field\": \"Injuries\", \"as\": \"Injuries\"}], \"groupby\": [\"Year\"]}]}, {\"mark\": {\"type\": \"bar\", \"opacity\": 0.7}, \"encoding\": {\"color\": {\"value\": \"maroon\"}, \"tooltip\": [{\"type\": \"ordinal\", \"field\": \"Year\"}, {\"type\": \"quantitative\", \"field\": \"Deaths\"}], \"x\": {\"type\": \"ordinal\", \"field\": \"Year\"}, \"y\": {\"type\": \"quantitative\", \"field\": \"Deaths\", \"stack\": null}}, \"transform\": [{\"aggregate\": [{\"op\": \"sum\", \"field\": \"Deaths\", \"as\": \"Deaths\"}], \"groupby\": [\"Year\"]}]}], \"data\": {\"name\": \"data-086529696c9c2d2cac2cf1f7099477d4\"}}], \"$schema\": \"https://vega.github.io/schema/vega-lite/v4.8.1.json\", \"datasets\": {\"data-086529696c9c2d2cac2cf1f7099477d4\": [{\"Unnamed: 0\": 68, \"Date\": \"2010-02-05T00:00:00\", \"Deaths\": 1, \"Injuries\": 0, \"Description\": \"14-year-old student, Hammad Memon, killed 14-year-old Todd Brown at Discovery Middle School as classes were changing. The shooting was possibly related to gang activity. In May 2013, Memon pleaded guilty to the murder and was sentenced to thirty years of prison. After Memon is released from prison, he is likely to be deported to his native Pakistan.\", \"City\": \"Madison\", \"State\": \" Alabama\", \"Latitude\": 34.715, \"Longitude\": -86.73972, \"Casualty\": 1, \"Year\": 2010}, {\"Unnamed: 0\": 69, \"Date\": \"2010-02-19T00:00:00\", \"Deaths\": 0, \"Injuries\": 1, \"Description\": \"Less than a week after Northern Illinois University solemnly marked the second anniversary of a mass shooting on campus that claimed the lives of five students, the DeKalb school was the scene of further gun violence. 24-year-old NIU student, Brian Mulder, refused entry to 22-year-old Zachary R. Isaacman, when he had tried to follow a female resident into the Stevenson Residence Hall North, where they were living, because he was not a resident. Moments later, while outside the dorm smoking with a friend, Mulder was shot by Isaacman, with a handgun in the leg above the knee. Isaacman tried to flee, but was caught by police within minutes.\", \"City\": \"DeKalb\", \"State\": \" Illinois\", \"Latitude\": 41.93139, \"Longitude\": -88.75028, \"Casualty\": 1, \"Year\": 2010}, {\"Unnamed: 0\": 70, \"Date\": \"2010-02-23T00:00:00\", \"Deaths\": 0, \"Injuries\": 2, \"Description\": \"At Deer Creek Middle School, 32-year-old Bruco Strong Eagle Eastwood opened fire from a rifle in a parking lot, and wounded two eighth-graders Reagan Webber and Matt Thieu, before being restrained by 57-year-old Math teacher, David Benke, and held until his arrest. The boy's wounds were critical for the four days following the shooting. In October 2011, Eastwood was found not guilty by reason of insanity.\", \"City\": \"Littleton\", \"State\": \" Colorado\", \"Latitude\": 39.59972, \"Longitude\": -105.01083, \"Casualty\": 2, \"Year\": 2010}, {\"Unnamed: 0\": 71, \"Date\": \"2010-05-11T00:00:00\", \"Deaths\": 0, \"Injuries\": 1, \"Description\": \"A West Bladen High School student was shot on campus as students were leaving school for the day. Investigators said the incident started when a fight broke out between two groups of students near the high school's entrance.\", \"City\": \"Bladenboro\", \"State\": \" North Carolina\", \"Latitude\": 34.54056, \"Longitude\": -78.79306, \"Casualty\": 1, \"Year\": 2010}, {\"Unnamed: 0\": 72, \"Date\": \"2010-09-08T00:00:00\", \"Deaths\": 0, \"Injuries\": 2, \"Description\": \"Two students were wounded in front of Mumford High School by 17-year-old Steven Jamal Hare. He was tried as an adult and charged with assault with intent to kill. In 2012, Hare was sentenced to 27 years in prison.\", \"City\": \"Detroit\", \"State\": \" Michigan\", \"Latitude\": 42.33139, \"Longitude\": -83.04583, \"Casualty\": 2, \"Year\": 2010}, {\"Unnamed: 0\": 73, \"Date\": \"2010-09-28T00:00:00\", \"Deaths\": 1, \"Injuries\": 1, \"Description\": \"A 19-year-old sophomore student Colton Tooley, wielding an AK-47 and wearing a ski mask, opened fire and then killed himself in a University of Texas library\", \"City\": \"Austin\", \"State\": \" Texas\", \"Latitude\": 30.26722, \"Longitude\": -97.74306, \"Casualty\": 2, \"Year\": 2010}, {\"Unnamed: 0\": 74, \"Date\": \"2010-10-01T00:00:00\", \"Deaths\": 1, \"Injuries\": 0, \"Description\": \"15-year-old student Jose Daniel Cisneros was killed after being shot several times on an athletic field at Alisal High School while walking to school. Police said that the shooting was gang-related.\", \"City\": \"Salinas\", \"State\": \" California\", \"Latitude\": 36.67778, \"Longitude\": -121.65556, \"Casualty\": 1, \"Year\": 2010}, {\"Unnamed: 0\": 75, \"Date\": \"2010-10-08T00:00:00\", \"Deaths\": 0, \"Injuries\": 2, \"Description\": \"41-year-old Brendan O'Rourke climbed over a fence and opened fire with a handgun in a playground of Kelly Elementary School, which had 230 students; two second-grade female students were grazed in the arms before O'Rourke was subdued by a construction worker. He was found guilty of seven counts of attempted murder and was sentenced to 189 years to life in prison.\", \"City\": \"Carlsbad\", \"State\": \" California\", \"Latitude\": 33.12194, \"Longitude\": -117.29694, \"Casualty\": 2, \"Year\": 2010}, {\"Unnamed: 0\": 76, \"Date\": \"2010-11-29T00:00:00\", \"Deaths\": 1, \"Injuries\": 0, \"Description\": \"15-year-old Samuel Hengel, took 23 students and a teacher hostage inside a classroom of Marinette High School for five hours. He had stormed into the class, firing with a handgun at a movie projector. Police persuaded Hengel to release the hostages. After officers entered the building, Hengel shot himself in the head. He died the next day.\", \"City\": \"Marinette\", \"State\": \" Wisconsin\", \"Latitude\": 45.1, \"Longitude\": -87.63056, \"Casualty\": 1, \"Year\": 2010}, {\"Unnamed: 0\": 77, \"Date\": \"2010-12-06T00:00:00\", \"Deaths\": 0, \"Injuries\": 1, \"Description\": \"In a gang-related attack outside Aurora Central High School, a 17-year-old girl was paralyzed. She was one of a group of students outside the school. 20-year-old Luis Enrique Guzman-Rincon, had fired shots from a car trying to hit gang rivals. Guzman-Ricon was sentenced to thirty-five years in prison.\", \"City\": \"Aurora\", \"State\": \" Colorado\", \"Latitude\": 39.71083, \"Longitude\": -104.8125, \"Casualty\": 1, \"Year\": 2010}, {\"Unnamed: 0\": 78, \"Date\": \"2011-01-05T00:00:00\", \"Deaths\": 2, \"Injuries\": 2, \"Description\": \"At Millard South High School, 18-year-old student, Robert Butler Jr., killed assistant principal Dr. Vicki Kaspar and wounded principal Curtis Case before opening fire at police in the front office area, causing the school nurse to be wounded by gunshot debris. Butler then drove to a parking lot and shot himself as police cornered him.\", \"City\": \"Omaha\", \"State\": \" Nebraska\", \"Latitude\": 41.25, \"Longitude\": -96.0, \"Casualty\": 4, \"Year\": 2011}, {\"Unnamed: 0\": 79, \"Date\": \"2011-03-25T00:00:00\", \"Deaths\": 0, \"Injuries\": 1, \"Description\": \"Michael Phelps, a 15-year-old suspended student, returned to Martinsville West Middle School with a handgun. In the entrance of the school, Phelps shot 15-year-old Chance Jackson twice in the abdomen, critically wounding him. Phelps fled the school and dropped the handgun; he was arrested shortly after. Jackson had to undergo surgery three times to save his life; he suffers from post-traumatic stress disorder. Phelps was convicted of attempted murder in August 2011, and was sentenced to thirty years in prison and five years of probation.\", \"City\": \"Martinsville\", \"State\": \" Indiana\", \"Latitude\": 39.42722, \"Longitude\": -86.42778, \"Casualty\": 1, \"Year\": 2011}, {\"Unnamed: 0\": 80, \"Date\": \"2011-03-31T00:00:00\", \"Deaths\": 1, \"Injuries\": 5, \"Description\": \"Multiple gunmen opened fire during a powder puff football game at Worthing High School. One man, an 18-year-old former student named Tremaine De Ante' Paul, died. Five other people were injured.\", \"City\": \"Houston\", \"State\": \" Texas\", \"Latitude\": 29.76278, \"Longitude\": -95.38306, \"Casualty\": 6, \"Year\": 2011}, {\"Unnamed: 0\": 81, \"Date\": \"2011-04-19T00:00:00\", \"Deaths\": 0, \"Injuries\": 3, \"Description\": \"6-year-old boy took a semi-automatic pistol in his backpack to Ross Elementary, Later that morning as he and more than 40 other kindergartners were having lunch in a crowded cafeteria, the boy accidentally fired the gun as he was showing it off to friends. The boy, as well as another 6-year-old boy and a 5-year-old girl were injured. Houston police say the gun belonged to a friend of the boy's family.\", \"City\": \"Houston\", \"State\": \" Texas\", \"Latitude\": 29.76278, \"Longitude\": -95.38306, \"Casualty\": 3, \"Year\": 2011}, {\"Unnamed: 0\": 82, \"Date\": \"2011-05-23T00:00:00\", \"Deaths\": 0, \"Injuries\": 1, \"Description\": \"A 14-year-old male student was accused of firing a handgun on the campus of Highlands Intermediate School, wounding one student. The gunman was arrested on suspicion of attempted murder. Two other suspects were arrested in connection with the shooting.\", \"City\": \"Pearl City\", \"State\": \" Hawaii\", \"Latitude\": 21.40833, \"Longitude\": -157.96694, \"Casualty\": 1, \"Year\": 2011}, {\"Unnamed: 0\": 83, \"Date\": \"2011-08-19T00:00:00\", \"Deaths\": 0, \"Injuries\": 1, \"Description\": \"An Albany State University student was shot on campus.\", \"City\": \"Albany\", \"State\": \" Georgia\", \"Latitude\": 31.58222, \"Longitude\": -84.16556, \"Casualty\": 1, \"Year\": 2011}, {\"Unnamed: 0\": 84, \"Date\": \"2011-10-24T00:00:00\", \"Deaths\": 0, \"Injuries\": 1, \"Description\": \"Cape Fear High School shooting: 15-year-old Catilyn Abercrombie, was shot in the neck with a rifle by fellow student, 15-year-old Charles Underwood, at Cape Fear High School. She was hospitalized for two months in a serious condition. Underwood was arrested and charged with attempted murder. He was convicted of attempted first-degree murder and sentenced to fifteen years in prison.\", \"City\": \"Fayetteville\", \"State\": \" North Carolina\", \"Latitude\": 35.0525, \"Longitude\": -78.87806, \"Casualty\": 1, \"Year\": 2011}, {\"Unnamed: 0\": 85, \"Date\": \"2011-12-08T00:00:00\", \"Deaths\": 2, \"Injuries\": 0, \"Description\": \"22-year-old, Ross Truett Ashley, part-time business student at Radford University, killed a police officer engaged in an unrelated traffic stop on the campus of Virginia Tech, he then committed suicide in a nearby parking lot.\", \"City\": \"Blacksburg\", \"State\": \" Virginia\", \"Latitude\": 37.23, \"Longitude\": -80.41778, \"Casualty\": 2, \"Year\": 2011}, {\"Unnamed: 0\": 86, \"Date\": \"2011-12-09T00:00:00\", \"Deaths\": 0, \"Injuries\": 2, \"Description\": \"Two students were shot after school at Harwell Middle School in Edinburg, Texas while trying out for their school's basketball team. The shooting allegedly was done by an adult off campus, who was shooting at a target range.\", \"City\": \"Edinburg\", \"State\": \" Texas\", \"Latitude\": 26.30417, \"Longitude\": -98.16389, \"Casualty\": 2, \"Year\": 2011}, {\"Unnamed: 0\": 87, \"Date\": \"2012-01-10T00:00:00\", \"Deaths\": 0, \"Injuries\": 1, \"Description\": \"A student opened fire with a handgun at North Forest High School, wounding another student. The shooter said that he had been confronted by three students who had been bullying him and he shot in self-defense. He hit a 16-year-old bystander in the leg. The 18-year-old suspect was charged with aggravated assault with a deadly weapon.\", \"City\": \"Houston\", \"State\": \" Texas\", \"Latitude\": 29.76278, \"Longitude\": -95.38306, \"Casualty\": 1, \"Year\": 2012}, {\"Unnamed: 0\": 88, \"Date\": \"2012-02-23T00:00:00\", \"Deaths\": 0, \"Injuries\": 1, \"Description\": \"Armin Jahr Elementary School: A 9-year-old boy accidentally set off a firearm in class after slamming his backpack on a desk hitting 8-year-old Amina Kocer-Bowman in the abdomen causing her to spend 8 weeks in a hospital. The boy said he took the gun because he planned to run away from his uncle's house, where he lived, and that he planned to bring a gun with him for protection. The boy's mother, Jamie Lee Chaffin, a felon, eventually pleaded guilty to weapons charges and was sentenced to 14 months in prison. The boy made a plea agreement with Kitsap County prosecutors, taking responsibility for bringing the handgun school to and was sentenced to a year of court-supervised probation.\", \"City\": \"Bremerton\", \"State\": \" Washington\", \"Latitude\": 47.57, \"Longitude\": -122.6525, \"Casualty\": 1, \"Year\": 2012}, {\"Unnamed: 0\": 89, \"Date\": \"2012-02-27T00:00:00\", \"Deaths\": 3, \"Injuries\": 3, \"Description\": \"Chardon High School shooting: 17-year-old Thomas \\\"T. J.\\\" Lane, took a semi-automatic handgun and a knife to Chardon High School, where he fired ten shots at a group of students sitting in the cafeteria. He killed three boys and wounded three other students. One 16-year-old died immediately, two others died the following day. Lane was arrested early the next morning while standing near his car. He was charged as an adult with murder, attempted murder, and firearms offenses. In March 2013, he was convicted and sentenced to three life sentences without the possibility of parole.\", \"City\": \"Chardon\", \"State\": \" Ohio\", \"Latitude\": 41.57917, \"Longitude\": -81.20444, \"Casualty\": 6, \"Year\": 2012}, {\"Unnamed: 0\": 90, \"Date\": \"2012-04-02T00:00:00\", \"Deaths\": 7, \"Injuries\": 3, \"Description\": \"Oikos University shooting: 43-year-old One L. Goh, was accused of shooting dead seven students with a handgun and wounding three others at Oikos University, a Christian college. He fled the scene, stealing a victim's car, and was apprehended hours later nearby. Goh was charged with seven counts of murder. In January 2013, Goh was determined to be mentally unfit for trial and committed for treatment.\", \"City\": \"Oakland\", \"State\": \" California\", \"Latitude\": 37.80444, \"Longitude\": -122.27083, \"Casualty\": 10, \"Year\": 2012}, {\"Unnamed: 0\": 91, \"Date\": \"2012-08-16T00:00:00\", \"Deaths\": 0, \"Injuries\": 2, \"Description\": \"Two Hamilton High School students were wounded in the parking lot of the school. The attack was believed to be gang-related.\", \"City\": \"Memphis\", \"State\": \" Tennessee\", \"Latitude\": 35.1175, \"Longitude\": -89.97111, \"Casualty\": 2, \"Year\": 2012}, {\"Unnamed: 0\": 92, \"Date\": \"2012-08-27T00:00:00\", \"Deaths\": 0, \"Injuries\": 1, \"Description\": \"15-year-old Robert Gladden, fired two shots with a shotgun inside the cafeteria at Perry Hall School. He hit a 17-year-old senior in the lower back, causing critical wounds. The youth has Down syndrome. Gladden was subdued by two school faculty members, and arrested. In February 2013, he was sentenced to thirty-five years in prison on attempted murder charges.\", \"City\": \"Perry Hall\", \"State\": \" Maryland\", \"Latitude\": 39.40139, \"Longitude\": -76.47889, \"Casualty\": 1, \"Year\": 2012}, {\"Unnamed: 0\": 93, \"Date\": \"2012-09-07T00:00:00\", \"Deaths\": 0, \"Injuries\": 0, \"Description\": \"A 14-year-old student fired multiple gunshots in a classroom ceiling at Normal Community High School, and was tackled by a teacher. Nobody was injured. The student was arrested and charged with sixteen felony counts.\", \"City\": \"Normal\", \"State\": \" Illinois\", \"Latitude\": 40.51222, \"Longitude\": -88.98861, \"Casualty\": 0, \"Year\": 2012}, {\"Unnamed: 0\": 94, \"Date\": \"2012-10-19T00:00:00\", \"Deaths\": 1, \"Injuries\": 0, \"Description\": \"18-year-old Banner Academy South student, Terrance Wright, was killed during an attempted robbery. Wright was approached by five would-be robbers as he left the school about 3:40\\u00a0p.m.. He was shot in the chest as he fought back when one assailant was going through his pockets. Wright had been picked on at his previous high school because he was gay, which led him to transfer to Banner.\", \"City\": \"Chicago\", \"State\": \" Illinois\", \"Latitude\": 41.88194, \"Longitude\": -87.62778, \"Casualty\": 1, \"Year\": 2012}, {\"Unnamed: 0\": 95, \"Date\": \"2012-10-31T00:00:00\", \"Deaths\": 0, \"Injuries\": 4, \"Description\": \"At a Halloween party on the University of Southern California campus, an argument escalated and 20-year-old Brandon Spencer, used a handgun to shoot rival gang member, Geno Hall, seven times, critically wounding him. Spencer wounded three other people, none were students at USC, they were hospitalized with less serious injuries. Spencer was arrested just minutes after the shooting, which took place outside USC's Grand Ballroom at around 11:30\\u00a0p.m. In April 2014, he was convicted of attempted murder and sentenced to forty years to life in prison.\", \"City\": \"Los Angeles\", \"State\": \" California\", \"Latitude\": 34.05, \"Longitude\": -118.25, \"Casualty\": 4, \"Year\": 2012}, {\"Unnamed: 0\": 96, \"Date\": \"2012-12-14T00:00:00\", \"Deaths\": 28, \"Injuries\": 2, \"Description\": \"Sandy Hook Elementary School shooting: 20-year-old Adam Lanza killed twenty-six people and himself. He first killed his mother at their shared home before taking four of her guns and driving to the school, where he killed 20 first-grade children aged six and seven along with six adults, including four teachers, the principal, and the school psychologist. Two other persons were injured. Lanza then killed himself as police arrived at the school.\", \"City\": \"Newtown\", \"State\": \" Connecticut\", \"Latitude\": 41.4, \"Longitude\": -73.283, \"Casualty\": 30, \"Year\": 2012}, {\"Unnamed: 0\": 97, \"Date\": \"2013-01-10T00:00:00\", \"Deaths\": 0, \"Injuries\": 2, \"Description\": \"16-year-old student, Bryan Oliver, entered a science classroom of Taft Union High School with a shotgun and opened fire, critically wounding 16-year-old student Bowe Cleveland. He shot at but missed another student. The classroom teacher Ryan Heber convinced Oliver, to drop his weapon. He was later arrested. On January 14, he was charged with two counts of attempted murder and assault with a firearm. He was convicted and accepted a plea deal with a sentence of 27 years and 4 months. According to the attorney for the Cleveland family, they were not satisfied with the sentence.\", \"City\": \"Taft\", \"State\": \" California\", \"Latitude\": 35.1425, \"Longitude\": -119.45639, \"Casualty\": 2, \"Year\": 2013}, {\"Unnamed: 0\": 98, \"Date\": \"2013-01-12T00:00:00\", \"Deaths\": 0, \"Injuries\": 1, \"Description\": \"A 16-year-old Osborn High School student was shot and wounded after a basketball game.\", \"City\": \"Detroit\", \"State\": \" Michigan\", \"Latitude\": 42.33139, \"Longitude\": -83.04583, \"Casualty\": 1, \"Year\": 2013}, {\"Unnamed: 0\": 99, \"Date\": \"2013-01-15T00:00:00\", \"Deaths\": 0, \"Injuries\": 2, \"Description\": \"A 34-year-old gunman wounded an administrator in his office on the fourth floor of Stevens Institute of Business and Arts. The suspected gunman, Sean Johnson, a part-time student, wounded himself in a stairwell. Both the administrator and Johnson were hospitalized in stable conditions. Johnson was convicted of three felony charges, including assault and was sentenced to 60 years in prison.\", \"City\": \"St. Louis\", \"State\": \" Missouri\", \"Latitude\": 38.62722, \"Longitude\": -90.19778, \"Casualty\": 2, \"Year\": 2013}, {\"Unnamed: 0\": 100, \"Date\": \"2013-01-15T00:00:00\", \"Deaths\": 3, \"Injuries\": 0, \"Description\": \"Two people were killed and a third person was wounded at the parking lot of Hazard Community and Technical College. The third victim, 12-year-old Taylor Cornett, died from her wounds the next day. 21-year-old Dalton Lee Stidham, was arrested and charged with three counts of murder. He was sentenced to life in prison without parole in 2014.\", \"City\": \"Hazard\", \"State\": \" Kentucky\", \"Latitude\": 37.24861, \"Longitude\": -83.195, \"Casualty\": 3, \"Year\": 2013}, {\"Unnamed: 0\": 101, \"Date\": \"2013-01-16T00:00:00\", \"Deaths\": 1, \"Injuries\": 0, \"Description\": \"A 17-year-old boy, Tyrone Lawson, was killed in a parking lot of Chicago State University. The shooting happened after high school basketball games held on the campus, where Lawson had been a spectator. Police arrested two brothers, Michael McNabb, 33, and Brian Hewlett (under the alias Stephen Gilbert), 30 after the shooting and recovered a weapon.\", \"City\": \"Chicago\", \"State\": \" Illinois\", \"Latitude\": 41.88194, \"Longitude\": -87.62778, \"Casualty\": 1, \"Year\": 2013}, {\"Unnamed: 0\": 102, \"Date\": \"2013-01-22T00:00:00\", \"Deaths\": 0, \"Injuries\": 3, \"Description\": \"Lone Star College\\u2013North Harris shooting: Outside Lone Star College\\u2013North Harris, two men got into an argument. One wounded the other. He also wounded a maintenance man, and accidentally shot himself in the leg. The shooter fled into the woods and was arrested hours later. The charges against the initial suspect were dropped and another man was arrested.\", \"City\": \"Houston\", \"State\": \" Texas\", \"Latitude\": 29.76278, \"Longitude\": -95.38306, \"Casualty\": 3, \"Year\": 2013}, {\"Unnamed: 0\": 103, \"Date\": \"2013-01-31T00:00:00\", \"Deaths\": 0, \"Injuries\": 2, \"Description\": \"A 14-year-old male student was wounded at Price Middle School. The gunman, a 15-year-old student, was believed to be arguing with the other student before using a handgun to shoot him. A teacher was also wounded. Afterward, the gunman was disarmed by a school resource officer and arrested; police charged him with aggravated assault.\", \"City\": \"Atlanta\", \"State\": \" Georgia\", \"Latitude\": 33.755, \"Longitude\": -84.39, \"Casualty\": 2, \"Year\": 2013}, {\"Unnamed: 0\": 104, \"Date\": \"2013-03-18T00:00:00\", \"Deaths\": 1, \"Injuries\": 0, \"Description\": \"At the University of Central Florida, 30-year-old student James Oliver Seevakumaran pulled a fire alarm at the Tower One dormitory, to attract a crowd. He pointed a handgun at his roommate and threatened to shoot him in their room; he released the roommate, who ran out and called 9-1-1. Seevakumaran then fatally shot himself in the head. Authorities found an assault weapon, a couple hundred rounds of ammunition and four homemade bombs inside his backpack.\", \"City\": \"Orlando\", \"State\": \" Florida\", \"Latitude\": 28.54, \"Longitude\": -81.38, \"Casualty\": 1, \"Year\": 2013}, {\"Unnamed: 0\": 105, \"Date\": \"2013-04-12T00:00:00\", \"Deaths\": 0, \"Injuries\": 2, \"Description\": \"New River Community College shooting incident: Two women were wounded during a shooting at the campus of New River Community College. 18-year-old Neil Allen MacInnis, was taken into custody. In June 2014, he was sentenced to 38 years in prison.\", \"City\": \"Christiansburg\", \"State\": \" Virginia\", \"Latitude\": 37.14111, \"Longitude\": -80.40778, \"Casualty\": 2, \"Year\": 2013}, {\"Unnamed: 0\": 106, \"Date\": \"2013-04-16T00:00:00\", \"Deaths\": 0, \"Injuries\": 3, \"Description\": \"Three students were injured on the campus of Grambling State University.\", \"City\": \"Grambling\", \"State\": \" Louisiana\", \"Latitude\": 32.5275, \"Longitude\": -92.71389, \"Casualty\": 3, \"Year\": 2013}, {\"Unnamed: 0\": 107, \"Date\": \"2013-04-18T00:00:00\", \"Deaths\": 1, \"Injuries\": 0, \"Description\": \"Three days after committing the Boston Marathon bombing, while still at large, the brothers Dzhokhar Tsarnaev and Tamerlan Tsarnaev shot and killed Massachusetts Institute of Technology campus police officer Sean Collier in his patrol car near MIT's Ray and Maria Stata Center. About three hours after the MIT shooting and after carjacking a vehicle, Tamerlan died in a gunfight with police in Watertown, Massachusetts. Another officer was seriously wounded. Shot in the neck and hiding in a boat parked nearby, Dzhokhar was arrested 18 hours later, and hospitalized in critical condition. He was sentenced to death in 2015.\", \"City\": \"Cambridge\", \"State\": \" Massachusetts\", \"Latitude\": 42.37361, \"Longitude\": -71.11056, \"Casualty\": 1, \"Year\": 2013}, {\"Unnamed: 0\": 108, \"Date\": \"2013-05-14T00:00:00\", \"Deaths\": 0, \"Injuries\": 0, \"Description\": \"Allegedly responding to a student fight, a mother of a student fired a weapon on the campus of Ossie Ware Mitchell Middle School. No one was injured.\", \"City\": \"Birmingham\", \"State\": \" Alabama\", \"Latitude\": 33.51861, \"Longitude\": -86.81028, \"Casualty\": 0, \"Year\": 2013}, {\"Unnamed: 0\": 109, \"Date\": \"2013-06-07T00:00:00\", \"Deaths\": 6, \"Injuries\": 4, \"Description\": \"2013 Santa Monica shooting: 23-year-old John Zawahri, began a killing spree at his home. After killing his 55-year-old father, Samir \\\"Sam\\\" Zawahri, and 25-year-old brother, Chris Zawahri, he set the house ablaze. Dressed all in black with body armor and wielding an AR-15-type semi-automatic rifle, Zawahri carjacked 41-year-old Laura Siska, shooting 50-year-old Debra Fine, as she attempted to intervene, before forcing Siska to drive to Santa Monica College. Upon arriving on the college campus, Zawahri began shooting at passing vehicles, including a police car and a city bus, leaving three people with minor injuries. Zawahri next targeted a Ford Explorer, killing the driver, 68-year-old campus groundskeeper, Carlos Navarro Franco, and fatally wounding the passenger, his 26-year-old daughter Marcela Diaz-Franco, a student at the college, who died two days later. 68-year-old Margarita Gomez, who was collecting cans outside the library, died after being shot in the abdomen and chest. Zawahri opened fire on students who were trying to run away. It ended at the college library where he opened fire on students studying for finals, before being fatally wounded in an exchange of gunfire with responding police officers.\", \"City\": \"Santa Monica\", \"State\": \" California\", \"Latitude\": 34.02194, \"Longitude\": -118.48139, \"Casualty\": 10, \"Year\": 2013}, {\"Unnamed: 0\": 110, \"Date\": \"2013-08-22T00:00:00\", \"Deaths\": 0, \"Injuries\": 0, \"Description\": \"A 5-year-old kindergarten student fired a handgun in his elementary school cafeteria. The Westside Elementary School student brought the gun to school in his backpack. While waiting for the opening bell in the cafeteria, the gun accidentally discharged one time inside the boy's backpack. There was no evidence of harmful intent and nobody was injured. To date, the boy is the youngest documented school shooter.\", \"City\": \"Memphis\", \"State\": \" Tennessee\", \"Latitude\": 35.1175, \"Longitude\": -89.97111, \"Casualty\": 0, \"Year\": 2013}, {\"Unnamed: 0\": 111, \"Date\": \"2013-08-23T00:00:00\", \"Deaths\": 1, \"Injuries\": 2, \"Description\": \"15-year-old student, Roderick Bobo, was killed during a football game at North Panola High School in what was termed a gang-related shooting. Two others were injured in the shooting. Three men were charged as being responsible for the crime.\", \"City\": \"Sardis\", \"State\": \" Mississippi\", \"Latitude\": 34.43556, \"Longitude\": -89.91667, \"Casualty\": 3, \"Year\": 2013}, {\"Unnamed: 0\": 112, \"Date\": \"2013-08-30T00:00:00\", \"Deaths\": 0, \"Injuries\": 1, \"Description\": \"A 15-year-old male student was shot at Carver High School, at 2:30\\u00a0p.m.. He was hospitalized with minor injuries. An 18-year-old male student was apprehended without further incident. The suspected gunman is charged with assault with a deadly weapon inflicting serious injury, carrying a concealed gun, possessing and discharging a firearm, and carrying a firearm onto educational property. The shooting was believed related to a dispute between the suspect and the victim.\", \"City\": \"Winston-Salem\", \"State\": \" North Carolina\", \"Latitude\": 36.1027639, \"Longitude\": -80.2604917, \"Casualty\": 1, \"Year\": 2013}, {\"Unnamed: 0\": 113, \"Date\": \"2013-10-04T00:00:00\", \"Deaths\": 0, \"Injuries\": 2, \"Description\": \"A 16-year-old student was shot in the hip outside Agape Christian Academy after a fight broke out at 2\\u00a0p.m.. An innocent bystander was hit by a stray bullet or shrapnel. The two victims were treated for minor injuries. The suspected shooter reportedly fled in a car with several other males, and was not caught.\", \"City\": \"Pine Hills\", \"State\": \" Florida\", \"Latitude\": 28.58167, \"Longitude\": -81.46944, \"Casualty\": 2, \"Year\": 2013}, {\"Unnamed: 0\": 114, \"Date\": \"2013-10-21T00:00:00\", \"Deaths\": 2, \"Injuries\": 2, \"Description\": \"12-year-old seventh-grade student Jose Reyes opened fire with a handgun at the basketball courts of Sparks Middle School, injuring one student in the shoulder. Michael Landsberry, a teacher and veteran, tried to intervene and was killed by Reyes. Reyes also wounded a student trying to help the teacher. Reyes then committed suicide by shooting himself in the head. The shooting happened before classes, and the school was evacuated and was closed for the week.\", \"City\": \"Sparks\", \"State\": \" Nevada\", \"Latitude\": 39.55444, \"Longitude\": -119.73556, \"Casualty\": 4, \"Year\": 2013}, {\"Unnamed: 0\": 115, \"Date\": \"2013-11-02T00:00:00\", \"Deaths\": 0, \"Injuries\": 1, \"Description\": \"A 21-year-old student was wounded at North Carolina A&T State University. The victim was hospitalized for serious but non-life-threatening injuries. The university was temporarily locked down that night. No suspects are in custody.\", \"City\": \"Greensboro\", \"State\": \" North Carolina\", \"Latitude\": 36.08, \"Longitude\": -79.81944, \"Casualty\": 1, \"Year\": 2013}, {\"Unnamed: 0\": 116, \"Date\": \"2013-11-03T00:00:00\", \"Deaths\": 0, \"Injuries\": 2, \"Description\": \"A Stephenson High School student and a janitor were shot in an apparent confrontation between football team members and a group of teens who were not attending the school. Both were innocent bystanders.\", \"City\": \"Lithonia\", \"State\": \" Georgia\", \"Latitude\": 33.71278, \"Longitude\": -84.10583, \"Casualty\": 2, \"Year\": 2013}, {\"Unnamed: 0\": 117, \"Date\": \"2013-11-13T00:00:00\", \"Deaths\": 0, \"Injuries\": 3, \"Description\": \"After classes ended, at least one gunman came out of the woods and opened fire on three students as they were walking to their cars at Brashear High School. One student was grazed in the head, another was struck in the neck and shoulder, and a third was hit in the leg and foot. Six people were taken into custody. The shooting is believed to be drug-related.\", \"City\": \"Pittsburgh\", \"State\": \" Pennsylvania\", \"Latitude\": 40.43972, \"Longitude\": -79.97639, \"Casualty\": 3, \"Year\": 2013}, {\"Unnamed: 0\": 118, \"Date\": \"2013-12-04T00:00:00\", \"Deaths\": 0, \"Injuries\": 1, \"Description\": \"A 15-year-old student was wounded by a 17-year-old student near a soccer field on the campus of West Orange High School. The shooting occurred after a fight broke out between the two students. The 17-year-old suspected shooter was taken into custody several miles away from the school, and is charged with attempted murder, aggravated battery with a firearm, possession of a firearm by a minor and possession of a firearm on school grounds. In October 2014, the shooter was sentenced to twenty-five years in prison.\", \"City\": \"Winter Garden\", \"State\": \" Florida\", \"Latitude\": 28.56028, \"Longitude\": -81.58417, \"Casualty\": 1, \"Year\": 2013}, {\"Unnamed: 0\": 119, \"Date\": \"2013-12-13T00:00:00\", \"Deaths\": 2, \"Injuries\": 0, \"Description\": \"18-year-old Karl Pierson, shot 17-year-old student Claire Davis in the head, fatally injuring her, in a hallway in Arapahoe High School. Pierson then took his own life. Pierson was armed with a shotgun, three Molotov cocktails, and a machete. His intention was to shoot the librarian who had disciplined him. Claire Davis died from her injuries on December 21, 2013.\", \"City\": \"Centennial\", \"State\": \" Colorado\", \"Latitude\": 39.590568, \"Longitude\": -104.869118, \"Casualty\": 2, \"Year\": 2013}, {\"Unnamed: 0\": 120, \"Date\": \"2013-12-19T00:00:00\", \"Deaths\": 0, \"Injuries\": 1, \"Description\": \"Four teens (16, 16, 16 and 17 years old) entered Edison High School in what was believed as a gang-initiation process. After accosting a 62-year-old woman about a mile away from school grounds, they found an athletic trainer who taught at Edison High and shot him several times in the leg and stomach.\", \"City\": \"Fresno\", \"State\": \" California\", \"Latitude\": 36.75, \"Longitude\": -119.767, \"Casualty\": 1, \"Year\": 2013}, {\"Unnamed: 0\": 121, \"Date\": \"2014-01-09T00:00:00\", \"Deaths\": 0, \"Injuries\": 1, \"Description\": \"A 16-year-old student was charged with bringing a gun to school at Liberty Technology Magnet High School and shooting a classmate in the thigh. The incident occurred outside the front of the school.\", \"City\": \"Jackson\", \"State\": \" Tennessee\", \"Latitude\": 35.61444, \"Longitude\": -88.81389, \"Casualty\": 1, \"Year\": 2014}, {\"Unnamed: 0\": 122, \"Date\": \"2014-01-13T00:00:00\", \"Deaths\": 0, \"Injuries\": 1, \"Description\": \"A 14-year-old boy was shot outside of a basketball game at the Hillhouse High School athletic facility, suffering wounds in his hand and leg.[cite]\", \"City\": \"New Haven\", \"State\": \" Connecticut\", \"Latitude\": 41.31, \"Longitude\": -72.92361, \"Casualty\": 1, \"Year\": 2014}, {\"Unnamed: 0\": 123, \"Date\": \"2014-01-14T00:00:00\", \"Deaths\": 0, \"Injuries\": 3, \"Description\": \"Two people were wounded inside the gymnasium of Berrendo Middle School, at about 8:10\\u00a0a.m.. An 11-year-old boy and a 13-year-old girl were airlifted to a hospital in Lubbock, Texas in critical condition. The 12-year-old suspected shooter, Mason Campbell, a seventh grade student, was apprehended at the scene after he was talked down by a staff member and dropped the shotgun. A staff member received minor injuries. Campbell was charged with three counts of aggravated battery with a deadly weapon. He was sentenced to a maximum sentence of confinement in a juvenile detention facility until he is twenty one years old.\", \"City\": \"Roswell\", \"State\": \" New Mexico\", \"Latitude\": 33.38722, \"Longitude\": -104.52806, \"Casualty\": 3, \"Year\": 2014}, {\"Unnamed: 0\": 124, \"Date\": \"2014-01-17T00:00:00\", \"Deaths\": 0, \"Injuries\": 2, \"Description\": \"A student allegedly shot two other students in the gymnasium at Delaware Valley Charter School. Both victims, a male and a female, were shot in the arm. They were taken to a nearby hospital and are in stable condition, police say. Police Commissioner Charles Ramsey said at a news conference that the shooter ran out of the school after the shooting but was taken into custody near his home. 17-year-old Raisheem Rochwell was arrested and charged as an adult for aggravated assault, recklessly endangering another person and firearms offenses. Rochwell was sentenced to two years of juvenile detention.\", \"City\": \"Philadelphia\", \"State\": \" Pennsylvania\", \"Latitude\": 39.95278, \"Longitude\": -75.16361, \"Casualty\": 2, \"Year\": 2014}, {\"Unnamed: 0\": 125, \"Date\": \"2014-01-20T00:00:00\", \"Deaths\": 0, \"Injuries\": 1, \"Description\": \"One person was critically injured at Widener University. The incident occurred around 10\\u00a0p.m. outside the university sport's complex and led to an 8-hour university lock-down. The suspect was not immediately found.\", \"City\": \"Chester\", \"State\": \" Pennsylvania\", \"Latitude\": 39.84722, \"Longitude\": -75.37278, \"Casualty\": 1, \"Year\": 2014}, {\"Unnamed: 0\": 126, \"Date\": \"2014-01-21T00:00:00\", \"Deaths\": 1, \"Injuries\": 0, \"Description\": \"A 21-year-old student, Andrew Boldt, was killed in a classroom building on the campus of Purdue University. 24-year-old student Cody Cousins was found guilty of the murder and was sentenced to sixty-five years of prison. In October 2014, Cousins committed suicide in his cell.\", \"City\": \"West Lafayette\", \"State\": \" Indiana\", \"Latitude\": 40.44194, \"Longitude\": -86.9125, \"Casualty\": 1, \"Year\": 2014}, {\"Unnamed: 0\": 127, \"Date\": \"2014-01-24T00:00:00\", \"Deaths\": 1, \"Injuries\": 0, \"Description\": \"A 20-year-old student was killed at South Carolina State University. A 19-year-old was arrested and charged with murder.\", \"City\": \"Orangeburg\", \"State\": \" South Carolina\", \"Latitude\": 33.49694, \"Longitude\": -80.86222, \"Casualty\": 1, \"Year\": 2014}, {\"Unnamed: 0\": 128, \"Date\": \"2014-01-25T00:00:00\", \"Deaths\": 1, \"Injuries\": 0, \"Description\": \"A man was killed at Los Angeles Valley College. Two suspects were arrested in the fatal shooting.\", \"City\": \"Los Angeles\", \"State\": \" California\", \"Latitude\": 34.05, \"Longitude\": -118.25, \"Casualty\": 1, \"Year\": 2014}, {\"Unnamed: 0\": 129, \"Date\": \"2014-01-27T00:00:00\", \"Deaths\": 0, \"Injuries\": 1, \"Description\": \"A group of students at Rebound High School got in an argument in the school's parking lot. One student pulled out a gun and shot another student in the ensuing altercation. An 18-year-old suspect is facing charges of attempted murder.\", \"City\": \"Carbondale\", \"State\": \" Illinois\", \"Latitude\": 37.726, \"Longitude\": -89.22, \"Casualty\": 1, \"Year\": 2014}, {\"Unnamed: 0\": 130, \"Date\": \"2014-01-28T00:00:00\", \"Deaths\": 0, \"Injuries\": 1, \"Description\": \"One student was shot in the leg in an apparent altercation over a gambling debt at Tennessee State University.\", \"City\": \"Nashville\", \"State\": \" Tennessee\", \"Latitude\": 36.16222, \"Longitude\": -86.77444, \"Casualty\": 1, \"Year\": 2014}, {\"Unnamed: 0\": 131, \"Date\": \"2014-01-30T00:00:00\", \"Deaths\": 0, \"Injuries\": 1, \"Description\": \"Three students were fighting in a parking lot of Eastern Florida State College and one pulled out a gun and shot another of the students. All three students claimed self-defense.\", \"City\": \"Palm Bay\", \"State\": \" Florida\", \"Latitude\": 27.9979222, \"Longitude\": -80.6700083, \"Casualty\": 1, \"Year\": 2014}, {\"Unnamed: 0\": 132, \"Date\": \"2014-01-31T00:00:00\", \"Deaths\": 0, \"Injuries\": 1, \"Description\": \"After a basketball game at North High School, there was gunfire in a parking lot of the school. Six males in a black jeep had come moments before the shooting and returned at the time it happened. A 15-year-old girl was injured by a ricocheting bullet. While officers were gaining control of the area, teachers on the scene led students into the school building for safety.\", \"City\": \"Des Moines\", \"State\": \" Iowa\", \"Latitude\": 41.59083, \"Longitude\": -93.62083, \"Casualty\": 1, \"Year\": 2014}, {\"Unnamed: 0\": 133, \"Date\": \"2014-02-10T00:00:00\", \"Deaths\": 0, \"Injuries\": 1, \"Description\": \"A 16-year-old student was shot in the stomach on the campus of Salisbury High School during a dispute in the school gym. 17-year-old suspect was charged with assault with a deadly weapon with intent to kill inflicting serious injury, possession of a firearm on school property and discharging a weapon on school property.\", \"City\": \"Salisbury\", \"State\": \" North Carolina\", \"Latitude\": 35.66833, \"Longitude\": -80.47861, \"Casualty\": 1, \"Year\": 2014}, {\"Unnamed: 0\": 134, \"Date\": \"2014-02-10T00:00:00\", \"Deaths\": 0, \"Injuries\": 0, \"Description\": \"Five shots were fired in the parking lot of Charles F. Brush High School, including one which hit an unoccupied police car. No one was reported to be injured, though a school basketball game was going on at the time.\", \"City\": \"Lyndhurst\", \"State\": \" Ohio\", \"Latitude\": 41.52139, \"Longitude\": -81.49028, \"Casualty\": 0, \"Year\": 2014}, {\"Unnamed: 0\": 135, \"Date\": \"2014-02-12T00:00:00\", \"Deaths\": 0, \"Injuries\": 1, \"Description\": \"A male victim was shot in the back in a possible gang-related drive-by shooting near the University of Southern California. The suspect fled into the University Campus. The victim was last reported in stable condition before being transported to a local hospital.\", \"City\": \"Los Angeles\", \"State\": \" California\", \"Latitude\": 34.05, \"Longitude\": -118.25, \"Casualty\": 1, \"Year\": 2014}, {\"Unnamed: 0\": 136, \"Date\": \"2014-02-22T00:00:00\", \"Deaths\": 0, \"Injuries\": 1, \"Description\": \"A shooting involving a campus police officer occurred at a Georgia Regents University dormitory complex. A male suspect entered a vehicle and nearly struck an officer, who opened fire. The suspect was taken to Georgia Regents Medical Center with injuries that were not believed to be critical.\", \"City\": \"Augusta\", \"State\": \" Georgia\", \"Latitude\": 33.467, \"Longitude\": -81.967, \"Casualty\": 1, \"Year\": 2014}, {\"Unnamed: 0\": 137, \"Date\": \"2014-03-25T00:00:00\", \"Deaths\": 0, \"Injuries\": 0, \"Description\": \"An argument between students led to shots being fired in a Benjamin Banneker High School parking lot during the afternoon. Investigators believe multiple people were present when shots were fired, but it was not known how many could face charges for the incident. No one was injured in the shooting.\", \"City\": \"College Park\", \"State\": \" Georgia\", \"Latitude\": 33.64833, \"Longitude\": -84.45611, \"Casualty\": 0, \"Year\": 2014}, {\"Unnamed: 0\": 138, \"Date\": \"2014-04-11T00:00:00\", \"Deaths\": 1, \"Injuries\": 0, \"Description\": \"After a Friday evening student awards ceremony called \\\"Grammy Night\\\", four men who were affiliated with a gang fired into a crowd in the parking lot of East English Village Preparatory Academy. One 19-year-old, Darryl Smith, was fatally shot in the head. Smith was not a student at the academy.\", \"City\": \"Detroit\", \"State\": \" Michigan\", \"Latitude\": 42.33139, \"Longitude\": -83.04583, \"Casualty\": 1, \"Year\": 2014}, {\"Unnamed: 0\": 139, \"Date\": \"2014-05-04T00:00:00\", \"Deaths\": 0, \"Injuries\": 1, \"Description\": \"Two men fired shots inside a dormitory at Paine College on Sunday, injuring one student in the head. Neither of the suspects were students at the college.\", \"City\": \"Augusta\", \"State\": \" Georgia\", \"Latitude\": 33.467, \"Longitude\": -81.967, \"Casualty\": 1, \"Year\": 2014}, {\"Unnamed: 0\": 140, \"Date\": \"2014-05-05T00:00:00\", \"Deaths\": 0, \"Injuries\": 1, \"Description\": \"An active shooter situation was reported at Paine College on Monday with one person reported to be shot. The suspect was apparently apprehended and in custody. It was the second shooting incident to occur at the college campus in two days.\", \"City\": \"Augusta\", \"State\": \" Georgia\", \"Latitude\": 33.467, \"Longitude\": -81.967, \"Casualty\": 1, \"Year\": 2014}, {\"Unnamed: 0\": 141, \"Date\": \"2014-05-08T00:00:00\", \"Deaths\": 0, \"Injuries\": 1, \"Description\": \"A person was shot on a student parking lot roof at Georgia Gwinnett College, receiving an injury. The specific cause has not been identified.\", \"City\": \"Lawrenceville\", \"State\": \" Georgia\", \"Latitude\": 33.95306, \"Longitude\": -83.9925, \"Casualty\": 1, \"Year\": 2014}, {\"Unnamed: 0\": 142, \"Date\": \"2014-05-14T00:00:00\", \"Deaths\": 0, \"Injuries\": 1, \"Description\": \"A 14-year-old student was injured during a drive-by shooting in front of John F. Kennedy High School at 8:30\\u00a0a.m.. He was shot as he was running towards the school campus after a fight took place. The student suffered a serious but stable injury to his leg. Police are searching for a suspect.\", \"City\": \"Richmond\", \"State\": \" California\", \"Latitude\": 37.93583, \"Longitude\": -122.34778, \"Casualty\": 1, \"Year\": 2014}, {\"Unnamed: 0\": 143, \"Date\": \"2014-06-05T00:00:00\", \"Deaths\": 1, \"Injuries\": 3, \"Description\": \"19-year-old students, Paul Lee and Sarah Williams, and 24-year-old student, Thomas Fowler, were shot inside a hallway of Otto Miller Hall at Seattle Pacific University. Freshman Lee was rushed to Harborview Medical Center but later died. The shooter was subdued with pepper spray and tackled to the ground by student building monitor, Jon Meis, as he paused to reload his shotgun. 26-year-old Aaron Rey Ybarra was arrested at the scene and has been charged with premeditated and attempted murder.\", \"City\": \"Seattle\", \"State\": \" Washington\", \"Latitude\": 47.60972, \"Longitude\": -122.33306, \"Casualty\": 4, \"Year\": 2014}, {\"Unnamed: 0\": 144, \"Date\": \"2014-06-10T00:00:00\", \"Deaths\": 2, \"Injuries\": 1, \"Description\": \"At around 8:30\\u00a0a.m. shots were fired at Reynolds High School. 14-year-old freshman Emilio Hoffman was killed, a physical education teacher was injured, and the gunman, 15-year-old Jared Padgett, exchanged gunfire with police officers and then committed suicide in a restroom stall.\", \"City\": \"Troutdale\", \"State\": \" Oregon\", \"Latitude\": 45.52944, \"Longitude\": -122.39167, \"Casualty\": 3, \"Year\": 2014}, {\"Unnamed: 0\": 145, \"Date\": \"2014-09-09T00:00:00\", \"Deaths\": 0, \"Injuries\": 1, \"Description\": \"Towards the end of the school day, one alternative school student in Miami was shot as a small group of students tussled. The injury was minor, requiring hospitalization, and five young adults were later questioned.\", \"City\": \"Miami\", \"State\": \" Florida\", \"Latitude\": 25.77528, \"Longitude\": -80.20889, \"Casualty\": 1, \"Year\": 2014}, {\"Unnamed: 0\": 146, \"Date\": \"2014-09-11T00:00:00\", \"Deaths\": 0, \"Injuries\": 1, \"Description\": \"An elementary school teacher with a concealed weapon permit had her gun fire accidentally in a faculty bathroom. The bullet shattered a toilet, and fragments of both the bullet and the porcelain injured her leg.\", \"City\": \"Taylorsville\", \"State\": \" Utah\", \"Latitude\": 40.655, \"Longitude\": -111.94944, \"Casualty\": 1, \"Year\": 2014}, {\"Unnamed: 0\": 147, \"Date\": \"2014-09-27T00:00:00\", \"Deaths\": 0, \"Injuries\": 1, \"Description\": \"A 20-year-old Indiana State University student was shot by another student on Saturday inside a residence hall. The injuries were not fatal, and a full recovery was expected. The shooter was arrested on the following day.\", \"City\": \"Terre Haute\", \"State\": \" Indiana\", \"Latitude\": 39.46972, \"Longitude\": -87.38972, \"Casualty\": 1, \"Year\": 2014}, {\"Unnamed: 0\": 148, \"Date\": \"2014-09-30T00:00:00\", \"Deaths\": 0, \"Injuries\": 1, \"Description\": \"Two students got in an argument at Albemarle High School around 7:30\\u00a0a.m. on Tuesday, and one of the students shot the other twice including once in the leg. The student who committed the shooting was allegedly involved in a stabbing of a football player last year at West Montgomery High School, which is only 20 miles (32\\u00a0km) away in Mount Gilead, North Carolina. The school had held an active shooter training over the summer, which prepared the school for this incident.\", \"City\": \"Albemarle\", \"State\": \" North Carolina\", \"Latitude\": 35.35833, \"Longitude\": -80.19528, \"Casualty\": 1, \"Year\": 2014}, {\"Unnamed: 0\": 149, \"Date\": \"2014-09-30T00:00:00\", \"Deaths\": 0, \"Injuries\": 1, \"Description\": \"One student was injured at Fern Creek Traditional High School. The incident occurred around 1\\u00a0p.m., reportedly after student became enraged in a hallway and pulled out a gun. The student was arrested later that day.\", \"City\": \"Louisville\", \"State\": \" Kentucky\", \"Latitude\": 38.25611, \"Longitude\": -85.75139, \"Casualty\": 1, \"Year\": 2014}, {\"Unnamed: 0\": 150, \"Date\": \"2014-10-03T00:00:00\", \"Deaths\": 1, \"Injuries\": 0, \"Description\": \"After a homecoming football game, a fatal shooting of 17-year-old Kristofer Hunter, occurred in the Langston Hughes High School parking lot. The assailant, 18-year-old Eric Dana Johnson Jr., turned himself in a week later.\", \"City\": \"Fairburn\", \"State\": \" Georgia\", \"Latitude\": 33.5625, \"Longitude\": -84.58139, \"Casualty\": 1, \"Year\": 2014}, {\"Unnamed: 0\": 151, \"Date\": \"2014-10-24T00:00:00\", \"Deaths\": 5, \"Injuries\": 1, \"Description\": \"Marysville Pilchuck High School shooting. 15-year-old freshman, Jaylen Fryberg, shot five students in the school cafeteria of Marysville Pilchuck High School, fatally wounding four, before committing suicide.\", \"City\": \"Marysville\", \"State\": \" Washington\", \"Latitude\": 48.06278, \"Longitude\": -122.16333, \"Casualty\": 6, \"Year\": 2014}, {\"Unnamed: 0\": 152, \"Date\": \"2014-11-20T00:00:00\", \"Deaths\": 1, \"Injuries\": 3, \"Description\": \"At around 12:40\\u00a0a.m. EST, a gunman opened fired in or near the Strozier Library at Florida State University. Three people suffered gunshot injuries and were taken to a local area hospital. One was in critical condition, another was in good condition, and the third was shortly released after treatment. The gunman, later identified as Myron May, an alumnus from the school, started firing towards responding police officers and was fatally shot by them on the steps of the library.\", \"City\": \"Tallahassee\", \"State\": \" Florida\", \"Latitude\": 30.455, \"Longitude\": -84.25333, \"Casualty\": 4, \"Year\": 2014}, {\"Unnamed: 0\": 153, \"Date\": \"2014-11-20T00:00:00\", \"Deaths\": 1, \"Injuries\": 1, \"Description\": \"Two teens were shot during a fight at Miami Carol City High School. One of the boys died.\", \"City\": \"Miami\", \"State\": \" Florida\", \"Latitude\": 25.77528, \"Longitude\": -80.20889, \"Casualty\": 2, \"Year\": 2014}, {\"Unnamed: 0\": 154, \"Date\": \"2014-12-12T00:00:00\", \"Deaths\": 0, \"Injuries\": 4, \"Description\": \"Rosemary Anderson High School shooting: A gunman shot three students and a man outside Rosemary Anderson High School in north Portland. A 16-year-old girl was in critical condition, while the others suffered minor injuries. Two men, aged eighteen and twenty-two, were arrested in connection with the shooting.\", \"City\": \"Portland\", \"State\": \" Oregon\", \"Latitude\": 45.52, \"Longitude\": -122.68194, \"Casualty\": 4, \"Year\": 2014}, {\"Unnamed: 0\": 155, \"Date\": \"2015-01-15T00:00:00\", \"Deaths\": 0, \"Injuries\": 3, \"Description\": \"A 15-year-old boy, a student's father, and a teacher were each injured in the school parking lot at Wisconsin Lutheran High School. The student had unspecified injuries that were treated. The father was shot in the knee and the teacher was grazed in the toe. A 36-year-old man was charged in the shooting.\", \"City\": \"Milwaukee\", \"State\": \" Wisconsin\", \"Latitude\": 43.05, \"Longitude\": -87.95, \"Casualty\": 3, \"Year\": 2015}, {\"Unnamed: 0\": 156, \"Date\": \"2015-01-16T00:00:00\", \"Deaths\": 0, \"Injuries\": 2, \"Description\": \"Two were injured in gunfire that occurred after a Friday night basketball game. One was injured directly by a bullet, the other by ricocheting glass.\", \"City\": \"Ocala\", \"State\": \" Florida\", \"Latitude\": 29.18778, \"Longitude\": -82.13056, \"Casualty\": 2, \"Year\": 2015}, {\"Unnamed: 0\": 157, \"Date\": \"2015-02-04T00:00:00\", \"Deaths\": 0, \"Injuries\": 2, \"Description\": \"Two students were shot near the gymnasium of Frederick High School during a junior varsity (JV) boys' basketball game. Approximately two hundred students, staff, and faculty were placed on lockdown for several hours after the shooting while police searched for the suspects. Brandon Earl Tyler, 21, and Chandler Tristan Davenport, 19 were charged with the shooting.\", \"City\": \"Frederick\", \"State\": \" Maryland\", \"Latitude\": 39.41389, \"Longitude\": -77.41111, \"Casualty\": 2, \"Year\": 2015}, {\"Unnamed: 0\": 158, \"Date\": \"2015-02-14T00:00:00\", \"Deaths\": 1, \"Injuries\": 0, \"Description\": \"16-year-old Benito Aguirre was found dead in the parking lot of Tenaya Middle School. The shooting was reported to have occurred after school hours.\", \"City\": \"Merced\", \"State\": \" California\", \"Latitude\": 37.3, \"Longitude\": -120.483, \"Casualty\": 1, \"Year\": 2015}, {\"Unnamed: 0\": 159, \"Date\": \"2015-02-23T00:00:00\", \"Deaths\": 0, \"Injuries\": 3, \"Description\": \"Two students argued outside the music building at Bethune-Cookman University when one pulled out a gun. Both had guns and it is not disclosed who did the shooting, injuring three students. A reward was offered to help solve this case.\", \"City\": \"Daytona Beach\", \"State\": \" Florida\", \"Latitude\": 29.19, \"Longitude\": -81.08944, \"Casualty\": 3, \"Year\": 2015}, {\"Unnamed: 0\": 160, \"Date\": \"2015-03-30T00:00:00\", \"Deaths\": 0, \"Injuries\": 1, \"Description\": \"Police said one person has been arrested for a shooting at Pershing Elementary School. The shooting occurred in the parking lot, with a 34-year-old-man being shot in the buttocks.\", \"City\": \"University City\", \"State\": \" Missouri\", \"Latitude\": 38.66389, \"Longitude\": -90.32778, \"Casualty\": 1, \"Year\": 2015}, {\"Unnamed: 0\": 161, \"Date\": \"2015-04-13T00:00:00\", \"Deaths\": 1, \"Injuries\": 0, \"Description\": \"A faculty member was killed with a rifle in the school library of Wayne Community College. The 20-year-old gunman, Kenneth Stancil, was arrested in Florida the next day. As of January 2017, Stancil, an admitted Neo-Nazi is being investigated for a hate crime. Stancil was later sentenced to life without parole for the murder.\", \"City\": \"Goldsboro\", \"State\": \" North Carolina\", \"Latitude\": 35.38194, \"Longitude\": -77.97806, \"Casualty\": 1, \"Year\": 2015}, {\"Unnamed: 0\": 162, \"Date\": \"2015-04-16T00:00:00\", \"Deaths\": 0, \"Injuries\": 1, \"Description\": \"A police officer was shot outside a school in a school zone while he was directing school buses into J.B. Martin Middle School, and the suspect was apprehended at the scene.\", \"City\": \"Paradis\", \"State\": \" Louisiana\", \"Latitude\": 29.87778, \"Longitude\": -90.43556, \"Casualty\": 1, \"Year\": 2015}, {\"Unnamed: 0\": 163, \"Date\": \"2015-05-12T00:00:00\", \"Deaths\": 0, \"Injuries\": 2, \"Description\": \"Police report that a 16-year-old shot five bullets into a school bus and injured two students. Apparently, there was an argument that touched on previous events.\", \"City\": \"Jacksonville\", \"State\": \" Florida\", \"Latitude\": 30.33694, \"Longitude\": -81.66139, \"Casualty\": 2, \"Year\": 2015}, {\"Unnamed: 0\": 164, \"Date\": \"2015-05-24T00:00:00\", \"Deaths\": 0, \"Injuries\": 7, \"Description\": \"In the early morning hours of Memorial Day weekend, a group of people were at Southwestern Classical Academy in the parking lot. Shots rang out and seven were injured, with two men being apprehended and charged.\", \"City\": \"Flint\", \"State\": \" Michigan\", \"Latitude\": 43.01889, \"Longitude\": -83.69333, \"Casualty\": 7, \"Year\": 2015}, {\"Unnamed: 0\": 165, \"Date\": \"2015-08-27T00:00:00\", \"Deaths\": 1, \"Injuries\": 0, \"Description\": \"22-year-old student Christopher Starks was fatally shot in a student union building at Savannah State University. Justin Stephens was charged with the murder.\", \"City\": \"Savannah\", \"State\": \" Georgia\", \"Latitude\": 32.08111, \"Longitude\": -81.09111, \"Casualty\": 1, \"Year\": 2015}, {\"Unnamed: 0\": 166, \"Date\": \"2015-09-03T00:00:00\", \"Deaths\": 1, \"Injuries\": 2, \"Description\": \"A man was arguing with at least one other person escalated into a physical fight on the parking lot of Sacramento City College. A man opened fire, killing a 25-year-old student and wounding two others. The shooting suspects: Tevita Kaihea and Charlie Hola (both 19 years old) were not arrested for the shooting until December of that year and in 2018 Kaihea was sentenced to 112 years to life in prison and hola was sentenced to 49 years to life.\", \"City\": \"Sacramento\", \"State\": \" California\", \"Latitude\": 38.58167, \"Longitude\": -121.49444, \"Casualty\": 3, \"Year\": 2015}, {\"Unnamed: 0\": 167, \"Date\": \"2015-09-30T00:00:00\", \"Deaths\": 0, \"Injuries\": 1, \"Description\": \"A principal was shot in the arm and wounded at Harrisburg High School after an argument with a student. The suspect, 16-year-old Mason Buhl at the school, was taken into custody and was charged with first-degree attempted murder and sentenced to 25 years with 15 years suspended on supervised probation.\", \"City\": \"Harrisburg\", \"State\": \" South Dakota\", \"Latitude\": 43.42944, \"Longitude\": -96.69611, \"Casualty\": 1, \"Year\": 2015}, {\"Unnamed: 0\": 168, \"Date\": \"2015-10-01T00:00:00\", \"Deaths\": 10, \"Injuries\": 9, \"Description\": \"Umpqua Community College shooting: At around 10:40\\u00a0a.m. PDT, a gunman, later identified as 26-year-old student Christopher Harper-Mercer, opened fire in a hall on the Umpqua Community College campus, killing eight students and one teacher, and injuring nine others. The gunman later committed suicide after engaging responding police officers in a brief gunfight.\", \"City\": \"Roseburg\", \"State\": \" Oregon\", \"Latitude\": 43.21806, \"Longitude\": -123.35611, \"Casualty\": 19, \"Year\": 2015}, {\"Unnamed: 0\": 169, \"Date\": \"2015-10-09T00:00:00\", \"Deaths\": 1, \"Injuries\": 3, \"Description\": \"Northern Arizona University shooting: One student died and three others were wounded in a shooting at Northern Arizona University. It is unclear what sparked the shooting, which took place near Mountain View Hall, a dormitory that houses most of the campus' students involved in Greek organizations. An 18-year-old student was arrested and charged with murder and aggravated assault.\", \"City\": \"Flagstaff\", \"State\": \" Arizona\", \"Latitude\": 35.19917, \"Longitude\": -111.63111, \"Casualty\": 4, \"Year\": 2015}, {\"Unnamed: 0\": 170, \"Date\": \"2015-10-09T00:00:00\", \"Deaths\": 1, \"Injuries\": 1, \"Description\": \"One person died and another person was injured after someone opened fire outside a Texas Southern University dorm.\", \"City\": \"Houston\", \"State\": \" Texas\", \"Latitude\": 29.76278, \"Longitude\": -95.38306, \"Casualty\": 2, \"Year\": 2015}, {\"Unnamed: 0\": 171, \"Date\": \"2015-10-22T00:00:00\", \"Deaths\": 1, \"Injuries\": 3, \"Description\": \"One person was killed and three others were wounded in a shooting at an outdoor courtyard at Tennessee State University. The shooting may have stemmed from an argument over a dice game. A suspect has not been identified or arrested.\", \"City\": \"Nashville\", \"State\": \" Tennessee\", \"Latitude\": 36.16222, \"Longitude\": -86.77444, \"Casualty\": 4, \"Year\": 2015}, {\"Unnamed: 0\": 172, \"Date\": \"2015-11-01T00:00:00\", \"Deaths\": 1, \"Injuries\": 1, \"Description\": \"One person died and another person was injured, after someone opened fire on the campus of Winston-Salem State University. A 21-year-old non-student suspect is sought.\", \"City\": \"Winston-Salem\", \"State\": \" North Carolina\", \"Latitude\": 36.1027639, \"Longitude\": -80.2604917, \"Casualty\": 2, \"Year\": 2015}, {\"Unnamed: 0\": 173, \"Date\": \"2015-11-20T00:00:00\", \"Deaths\": 1, \"Injuries\": 0, \"Description\": \"A 16-year-old student was fatally shot during a fight after school hours that involved multiple people on the campus of Mojave High School.\", \"City\": \"North Las Vegas\", \"State\": \" Nevada\", \"Latitude\": 36.22861, \"Longitude\": -115.14667, \"Casualty\": 1, \"Year\": 2015}, {\"Unnamed: 0\": 174, \"Date\": \"2016-01-22T00:00:00\", \"Deaths\": 0, \"Injuries\": 1, \"Description\": \"A 15-year-old male was shot in the leg and injured during a night-time basketball game at Lawrence Central High School.\", \"City\": \"Indianapolis\", \"State\": \" Indiana\", \"Latitude\": 39.76861, \"Longitude\": -86.15806, \"Casualty\": 1, \"Year\": 2016}, {\"Unnamed: 0\": 175, \"Date\": \"2016-01-29T00:00:00\", \"Deaths\": 0, \"Injuries\": 0, \"Description\": \"A gunshot was fired during a fight in a stairwell at Franklin High School, and no injuries were reported. Three people were detained.\", \"City\": \"Philadelphia\", \"State\": \" Pennsylvania\", \"Latitude\": 39.95278, \"Longitude\": -75.16361, \"Casualty\": 0, \"Year\": 2016}, {\"Unnamed: 0\": 176, \"Date\": \"2016-02-09T00:00:00\", \"Deaths\": 0, \"Injuries\": 4, \"Description\": \"Four people, including two students, were injured during a basketball game event in the parking lot of Muskegon Heights High School.\", \"City\": \"Muskegon Heights\", \"State\": \" Michigan\", \"Latitude\": 43.20111, \"Longitude\": -86.23889, \"Casualty\": 4, \"Year\": 2016}, {\"Unnamed: 0\": 177, \"Date\": \"2016-02-12T00:00:00\", \"Deaths\": 2, \"Injuries\": 0, \"Description\": \"Two 15-year-old girls died in an apparent Murder-Suicide at Independence High School.\", \"City\": \"Glendale\", \"State\": \" Arizona\", \"Latitude\": 33.53861, \"Longitude\": -112.18639, \"Casualty\": 2, \"Year\": 2016}, {\"Unnamed: 0\": 178, \"Date\": \"2016-02-29T00:00:00\", \"Deaths\": 0, \"Injuries\": 4, \"Description\": \"15-year-old Cameron Smith, and 14-year-old Cooper Caffrey, were shot when 14-year-old James Austin Hancock, opened fire in the Madison High School cafeteria with a .380 caliber handgun. 15-year-old Brant Murray, and 14-year-old Katherine Douchette, also suffered shrapnel injuries. Hancock was apprehended in a nearby wooded field.\", \"City\": \"Middletown\", \"State\": \" Ohio\", \"Latitude\": 39.5, \"Longitude\": -84.383, \"Casualty\": 4, \"Year\": 2016}, {\"Unnamed: 0\": 179, \"Date\": \"2016-04-23T00:00:00\", \"Deaths\": 1, \"Injuries\": 2, \"Description\": \"Two students at a prom at Antigo High School were shot and injured by 18-year-old former student Jakob Wagner. Wagner later exchanged fire with a school resource officer in the school's parking lot, and was captured after being shot and wounded by police. He died hours later in a hospital.\", \"City\": \"Antigo\", \"State\": \" Wisconsin\", \"Latitude\": 45.14111, \"Longitude\": -89.15333, \"Casualty\": 3, \"Year\": 2016}, {\"Unnamed: 0\": 180, \"Date\": \"2016-06-01T00:00:00\", \"Deaths\": 3, \"Injuries\": 0, \"Description\": \"2016 UCLA shooting. Mainak Sarkar, age 38, a Ph.D. student, killed his former professor, William S. Klug, age 39, a professor of mechanical and aerospace engineering, in an engineering building at UCLA. Sarkar then killed himself. Sarkar, who lived in Minnesota, also killed his ex-wife, Ashley Hasti, age 31, in her Brooklyn Park, Minnesota home.\", \"City\": \"Los Angeles\", \"State\": \" California\", \"Latitude\": 34.05, \"Longitude\": -118.25, \"Casualty\": 3, \"Year\": 2016}, {\"Unnamed: 0\": 181, \"Date\": \"2016-06-08T00:00:00\", \"Deaths\": 1, \"Injuries\": 3, \"Description\": \"One student was killed and three other individuals were injured when gunfire erupted outside of the Jeremiah Burke High School following a fire-alarm causing an evacuation of the school. Two suspects have been arrested.\", \"City\": \"Dorchester\", \"State\": \" Massachusetts\", \"Latitude\": 42.317, \"Longitude\": -71.05, \"Casualty\": 4, \"Year\": 2016}, {\"Unnamed: 0\": 182, \"Date\": \"2016-09-09T00:00:00\", \"Deaths\": 1, \"Injuries\": 2, \"Description\": \"A 14-year-old female student shot a 16-year-old girl in an Alpine High School restroom before committing suicide. A police officer accidentally shot another officer during the incident.\", \"City\": \"Alpine\", \"State\": \" Texas\", \"Latitude\": 30.36083, \"Longitude\": -103.66556, \"Casualty\": 3, \"Year\": 2016}, {\"Unnamed: 0\": 183, \"Date\": \"2016-09-28T00:00:00\", \"Deaths\": 2, \"Injuries\": 2, \"Description\": \"Townville Elementary School shooting: Two students and one teacher were wounded after a teen opened fire at Townville Elementary School. The suspect's father was found dead at his home soon after the shooting. One of the victims, six-year-old Jacob Hall, died 3 days after the shooting.\", \"City\": \"Townville\", \"State\": \" South Carolina\", \"Latitude\": 34.56361, \"Longitude\": -82.89861, \"Casualty\": 4, \"Year\": 2016}, {\"Unnamed: 0\": 184, \"Date\": \"2016-10-11T00:00:00\", \"Deaths\": 0, \"Injuries\": 1, \"Description\": \"A student was shot in the abdomen and wounded at Vigor High School. The suspect, a 16-year-old boy, turned himself in and was charged with assault.\", \"City\": \"Mobile\", \"State\": \" Alabama\", \"Latitude\": 30.69444, \"Longitude\": -88.04306, \"Casualty\": 1, \"Year\": 2016}, {\"Unnamed: 0\": 185, \"Date\": \"2016-10-13T00:00:00\", \"Deaths\": 0, \"Injuries\": 2, \"Description\": \"Two students were shot and wounded on the front lawn of Linden McKinley STEM Academy. One was shot in the shoulder and the other shot in the chest; both were hospitalized in stable condition.\", \"City\": \"Columbus\", \"State\": \" Ohio\", \"Latitude\": 39.96222, \"Longitude\": -83.00056, \"Casualty\": 2, \"Year\": 2016}, {\"Unnamed: 0\": 186, \"Date\": \"2016-10-18T00:00:00\", \"Deaths\": 0, \"Injuries\": 4, \"Description\": \"Four students were shot outside June Jordan High School for Equity, a San Francisco public high school. One female victim was in critical condition, while three male victims suffered minor injuries. Two people were arrested in the shooting.\", \"City\": \"San Francisco\", \"State\": \" California\", \"Latitude\": 37.7775, \"Longitude\": -122.41639, \"Casualty\": 4, \"Year\": 2016}, {\"Unnamed: 0\": 187, \"Date\": \"2016-10-25T00:00:00\", \"Deaths\": 0, \"Injuries\": 1, \"Description\": \"Police say the two teens ages 14 and 16 were involved in a confrontation on the far north end of Union Middle School. The boys got into an argument. The argument lead to a shooting. The 14-year-old shot the 16-year-old twice. He was sent to the hospital in critical but stable condition.\", \"City\": \"Sandy\", \"State\": \" Utah\", \"Latitude\": 40.5725, \"Longitude\": -111.85972, \"Casualty\": 1, \"Year\": 2016}, {\"Unnamed: 0\": 188, \"Date\": \"2016-12-01T00:00:00\", \"Deaths\": 0, \"Injuries\": 0, \"Description\": \"At Mueller Park Junior High School, a 15-year-old student fired one shot into the ceiling and then pointed the weapon at his own neck. The student was confronted verbally by a teacher and another student and later arrested in possession of a shotgun, a handgun, and ammunition for each and was sentenced to spend time in a Juvenile Justice Services facility.\", \"City\": \"Bountiful\", \"State\": \" Utah\", \"Latitude\": 40.87972, \"Longitude\": -111.87167, \"Casualty\": 0, \"Year\": 2016}, {\"Unnamed: 0\": 189, \"Date\": \"2017-01-20T00:00:00\", \"Deaths\": 0, \"Injuries\": 1, \"Description\": \"A 17-year-old student was charged with attempted murder and other crimes after bringing a gun to West Liberty-Salem High School and firing two shots at a 17-year-old student in a bathroom with a shotgun. The victim was injured. The student \\\"also is accused of discharging the weapon in the school's hallway before returning to the bathroom, where he was eventually taken into custody.\\\"\", \"City\": \"West Liberty\", \"State\": \" Ohio\", \"Latitude\": 40.25417, \"Longitude\": -83.7575, \"Casualty\": 1, \"Year\": 2017}, {\"Unnamed: 0\": 190, \"Date\": \"2017-01-20T00:00:00\", \"Deaths\": 0, \"Injuries\": 1, \"Description\": \"A 34-year-old man was shot in Red Square at University of Washington while protesting the visit of controversial journalist Milo Yiannopoulos. The shooter turned himself in to the university police and was later questioned and released without being charged with a crime.\", \"City\": \"Seattle\", \"State\": \" Washington\", \"Latitude\": 47.60972, \"Longitude\": -122.33306, \"Casualty\": 1, \"Year\": 2017}, {\"Unnamed: 0\": 191, \"Date\": \"2017-01-27T00:00:00\", \"Deaths\": 1, \"Injuries\": 0, \"Description\": \"A 37-year-old Oswego man, named Matthew Lange, was shot at Scullen Middle School, which is a part of Indian Prairie School District 204 at about 7:30 PM. The school is located at 2815 Mistflower Lane, Naperville, Illinois. At the time of the shooting, there were two non-district organizations renting the building out. The victim was waiting to pick his son up from a weekly Polish culture class. He was shot in the head. He was killed through his car window. He was brought to Edward Hospital in Naperville. The City is still seeking answers for the shooters identity over three years later.\", \"City\": \"Naperville\", \"State\": \" Illinois\", \"Latitude\": 41.76389, \"Longitude\": -88.17111, \"Casualty\": 1, \"Year\": 2017}, {\"Unnamed: 0\": 192, \"Date\": \"2017-03-21T00:00:00\", \"Deaths\": 0, \"Injuries\": 1, \"Description\": \"An 18-year-old King City High School student was shot outside the school's auditorium. The gunman ran across the school's campus and baseball field, and fled the area. The school was then placed on lockdown. The victim was hospitalized with life-threatening injuries. A suspect was arrested in August 2017.\", \"City\": \"King City\", \"State\": \" California\", \"Latitude\": 36.21278, \"Longitude\": -121.12611, \"Casualty\": 1, \"Year\": 2017}, {\"Unnamed: 0\": 193, \"Date\": \"2017-04-10T00:00:00\", \"Deaths\": 3, \"Injuries\": 1, \"Description\": \"North Park Elementary School shooting: Cedric Anderson, age 53, of Riverside, California, died of a self-inflicted gunshot wound after shooting and killing his estranged wife, Karen Elaine Smith, age 53, in a classroom. An eight-year-old student was also fatally shot, and a seven-year-old student was injured.\", \"City\": \"San Bernardino\", \"State\": \" California\", \"Latitude\": 34.1, \"Longitude\": -117.3, \"Casualty\": 4, \"Year\": 2017}, {\"Unnamed: 0\": 194, \"Date\": \"2017-05-04T00:00:00\", \"Deaths\": 2, \"Injuries\": 0, \"Description\": \"North Lake College: Adrian Victor Torres killed a 20-year-old student, Janeera Nickol Gonzalez, whom he was stalking. He fatally shot her three times and the college went into lockdown before discovering that the suspect has died from a self-inflicted gunshot wound.\", \"City\": \"Irving\", \"State\": \" Texas\", \"Latitude\": 32.817, \"Longitude\": -96.95, \"Casualty\": 2, \"Year\": 2017}, {\"Unnamed: 0\": 195, \"Date\": \"2017-09-13T00:00:00\", \"Deaths\": 1, \"Injuries\": 3, \"Description\": \"Freeman High School: Three students were injured and one killed after a shooter opened fire. The suspect was armed with an AR-15 and a Pistol. He shot one student with the AR-15, but the gun jammed so he switched to his pistol. He killed one student after shooting him twice in the stomach and once in the head. He was stopped by a janitor. The suspect, a 15-year-old student, (Caleb Sharpe) was taken into police custody.\", \"City\": \"Rockford\", \"State\": \" Washington\", \"Latitude\": 47.45083, \"Longitude\": -117.13278, \"Casualty\": 4, \"Year\": 2017}, {\"Unnamed: 0\": 196, \"Date\": \"2017-09-20T00:00:00\", \"Deaths\": 0, \"Injuries\": 1, \"Description\": \"Mattoon High School: A 14-year-old male student was subdued by a female teacher when he attempted to open fire in the school cafeteria at 11:33\\u00a0a.m. Multiple shots were fired in the process, and one student was struck in the chest and was driven to a nearby hospital suffering non-life-threatening wounds. The student was taken into custody without further incident.\", \"City\": \"Mattoon\", \"State\": \" Illinois\", \"Latitude\": 39.47889, \"Longitude\": -88.37306, \"Casualty\": 1, \"Year\": 2017}, {\"Unnamed: 0\": 197, \"Date\": \"2017-11-13T00:00:00\", \"Deaths\": 0, \"Injuries\": 2, \"Description\": \"Two people were shot on the Albany State University campus.\", \"City\": \"Albany\", \"State\": \" Georgia\", \"Latitude\": 31.58222, \"Longitude\": -84.16556, \"Casualty\": 2, \"Year\": 2017}, {\"Unnamed: 0\": 198, \"Date\": \"2017-11-14T00:00:00\", \"Deaths\": 6, \"Injuries\": 18, \"Description\": \"Rancho Tehama Reserve shootings: Neighbor on a rampage injured one student at Rancho Tehama Elementary School and fatally shot five adults at several locations. The secretary heard the gunfire near the school and ordered the school to go on lockdown. After a custodian and the teachers put it into action, 43 year-old Kevin Neal rammed a truck into the gate of the school and fired at the classrooms hitting one student when a bullet pierced the wall. Neal fatally shot himself after sheriff's deputies rammed his vehicle during a pursuit.\", \"City\": \"Rancho Tehama Reserve\", \"State\": \" California\", \"Latitude\": 40.00806, \"Longitude\": -122.42583, \"Casualty\": 24, \"Year\": 2017}, {\"Unnamed: 0\": 199, \"Date\": \"2017-12-07T00:00:00\", \"Deaths\": 3, \"Injuries\": 0, \"Description\": \"Aztec High School shooting: William Atchison, 21-year-old former male student snuck into Aztec High School disguised as a student and hid in an unlocked washroom with a Glock 9mm handgun hidden in his bag. He retreated from the washroom after being spotted by a school custodian who chased him shouting \\\"active shooter\\\" and \\\"lockdown\\\". Atchinson was able to shoot and kill two students who were caught in the hallway before he killed himself. He had been investigated in 2016 by the FBI when he asked \\\"where to find cheap assault rifles for a mass shooting\\\" on an online forum.\", \"City\": \"Aztec\", \"State\": \" New Mexico\", \"Latitude\": 36.82222, \"Longitude\": -107.99278, \"Casualty\": 3, \"Year\": 2017}, {\"Unnamed: 0\": 200, \"Date\": \"2018-01-10T00:00:00\", \"Deaths\": 0, \"Injuries\": 0, \"Description\": \"A criminal justice club student picked up a loaded gun, belonging to an advisor, which the student thought was an unloaded training weapon. She then shot at a wall target, unintentionally firing a bullet, which went through the wall and broke a window. The advisor was a licensed peace officer permitted to carry a firearm on campus.\", \"City\": \"Denison\", \"State\": \" Texas\", \"Latitude\": 33.74972, \"Longitude\": -96.5575, \"Casualty\": 0, \"Year\": 2018}, {\"Unnamed: 0\": 201, \"Date\": \"2018-01-20T00:00:00\", \"Deaths\": 1, \"Injuries\": 0, \"Description\": \"A student was fatally shot at a party at 1 a.m. on the campus of Wake Forest University.\", \"City\": \"Winston-Salem\", \"State\": \" North Carolina\", \"Latitude\": 36.1027639, \"Longitude\": -80.2604917, \"Casualty\": 1, \"Year\": 2018}, {\"Unnamed: 0\": 202, \"Date\": \"2018-01-22T00:00:00\", \"Deaths\": 0, \"Injuries\": 1, \"Description\": \"A 16-year-old male student fired at a 15-year-old female classmate that he had briefly dated in the cafeteria of Italy High School. The gunman left the school immediately after opening fire and was arrested.\", \"City\": \"Italy\", \"State\": \" Texas\", \"Latitude\": 32.18278, \"Longitude\": -96.885, \"Casualty\": 1, \"Year\": 2018}, {\"Unnamed: 0\": 203, \"Date\": \"2018-01-22T00:00:00\", \"Deaths\": 0, \"Injuries\": 1, \"Description\": \"Shots were fired from a truck in the parking lot of NET Charter High School, targeting a crowd of students during lunch time. One student was slightly injured, apparently from injuries unrelated to gunfire. One person was arrested in connection with the shooting.\", \"City\": \"New Orleans\", \"State\": \" Louisiana\", \"Latitude\": 29.95, \"Longitude\": -90.08, \"Casualty\": 1, \"Year\": 2018}, {\"Unnamed: 0\": 204, \"Date\": \"2018-01-23T00:00:00\", \"Deaths\": 2, \"Injuries\": 18, \"Description\": \"Marshall County High School shooting: Gabriel Ross Parker, a 15-year-old male student shot 16 people in the lobby at Marshall County High School and caused non-gunshot injuries to four others. Two 15-year-old students died: one killed at the scene, another died of wounds at Vanderbilt Medical Center.\", \"City\": \"Marshall County\", \"State\": \" Kentucky\", \"Latitude\": 36.88, \"Longitude\": -88.34, \"Casualty\": 20, \"Year\": 2018}, {\"Unnamed: 0\": 205, \"Date\": \"2018-01-31T00:00:00\", \"Deaths\": 1, \"Injuries\": 0, \"Description\": \"A fight began in the school parking lot outside a basketball game, and the school went into lockdown after shots were fired. A 32-year-old male was transported by private vehicle to Nazareth Hospital with two gunshot wounds in his leg. He was transferred by helicopter to another hospital, but died from his injuries. Police announced that they are searching for an adult male suspect.\", \"City\": \"Philadelphia\", \"State\": \" Pennsylvania\", \"Latitude\": 39.95278, \"Longitude\": -75.16361, \"Casualty\": 1, \"Year\": 2018}, {\"Unnamed: 0\": 206, \"Date\": \"2018-02-01T00:00:00\", \"Deaths\": 0, \"Injuries\": 5, \"Description\": \"Two 15-year-old students, a boy and a girl, were shot and injured inside a classroom at Sal Castro Middle School, which shares a campus with Belmont High School. Three other people suffered injuries unrelated to gunfire. A 12-year-old girl was arrested and charged with negligent discharge of a firearm.\", \"City\": \"Los Angeles\", \"State\": \" California\", \"Latitude\": 34.05, \"Longitude\": -118.25, \"Casualty\": 5, \"Year\": 2018}, {\"Unnamed: 0\": 207, \"Date\": \"2018-02-05T00:00:00\", \"Deaths\": 0, \"Injuries\": 1, \"Description\": \"A student was taken to the hospital after exiting Oxon Hill High School and going to speak to individuals in a vehicle who then attempted to rob, and subsequently shot and wounded him in the school's parking lot. Two other students were arrested and charged with attempted murder and robbery.\", \"City\": \"Oxon Hill\", \"State\": \" Maryland\", \"Latitude\": 38.80306, \"Longitude\": -76.98972, \"Casualty\": 1, \"Year\": 2018}, {\"Unnamed: 0\": 208, \"Date\": \"2018-02-09T00:00:00\", \"Deaths\": 0, \"Injuries\": 1, \"Description\": \"Pearl-Cohn High School: A student was shot five times in the parking lot.\", \"City\": \"Nashville\", \"State\": \" Tennessee\", \"Latitude\": 36.16222, \"Longitude\": -86.77444, \"Casualty\": 1, \"Year\": 2018}, {\"Unnamed: 0\": 209, \"Date\": \"2018-02-14T00:00:00\", \"Deaths\": 17, \"Injuries\": 17, \"Description\": \"Marjory Stoneman Douglas High School shooting: A 19-year-old former student (Nikolas Cruz) whose behavior had led to his expulsion began shooting students and staff members with a  rifle at Marjory Stoneman Douglas High School after activating a fire alarm. Seventeen people were killed, and 17 others were injured. The suspect shot the students on the first and third floor of the complex. The suspected shooter blended in with the crowd of fleeing students and was arrested in a residential area of neighboring Coral Springs after walking away from the school. He was later charged with murder and attempted murder. The suspect had sat down at a McDonald's, then went to a nearby Subway.\", \"City\": \"Parkland\", \"State\": \" Florida\", \"Latitude\": 26.31528, \"Longitude\": -80.24056, \"Casualty\": 34, \"Year\": 2018}, {\"Unnamed: 0\": 210, \"Date\": \"2018-02-24T00:00:00\", \"Deaths\": 1, \"Injuries\": 0, \"Description\": \"Savannah State University: A non-student was shot on campus and later died.\", \"City\": \"Savannah\", \"State\": \" Georgia\", \"Latitude\": 32.08111, \"Longitude\": -81.09111, \"Casualty\": 1, \"Year\": 2018}, {\"Unnamed: 0\": 211, \"Date\": \"2018-02-27T00:00:00\", \"Deaths\": 0, \"Injuries\": 1, \"Description\": \"Mississippi Valley State University: A person was shot in a recreation center. The injury was not life-threatening.\", \"City\": \"Itta Bena\", \"State\": \" Mississippi\", \"Latitude\": 33.49583, \"Longitude\": -90.32222, \"Casualty\": 1, \"Year\": 2018}, {\"Unnamed: 0\": 212, \"Date\": \"2018-02-27T00:00:00\", \"Deaths\": 0, \"Injuries\": 1, \"Description\": \"Norfolk State University: A student was shot from an adjacent dorm room while doing homework. He was not seriously injured.\", \"City\": \"Norfolk\", \"State\": \" Virginia\", \"Latitude\": 36.917, \"Longitude\": -76.2, \"Casualty\": 1, \"Year\": 2018}, {\"Unnamed: 0\": 213, \"Date\": \"2018-03-02T00:00:00\", \"Deaths\": 2, \"Injuries\": 0, \"Description\": \"Central Michigan University shooting: 19-year-old student James Eric Davis Jr. shot and killed his mother and father when they came to campus to take him home for spring break. After the shooting Davis fled and the campus was placed on lockdown. Around 15 hours later police arrested him and took him to a local hospital. The incident disrupted the travel plans of students and campus activities for several days. Davis was charged with two counts of murder and one count of unlawful possession of a firearm used to commit murder however the judge found Davis insane and was put in a Psychiatric facility.\", \"City\": \"Mount Pleasant\", \"State\": \" Michigan\", \"Latitude\": 43.59778, \"Longitude\": -84.7675, \"Casualty\": 2, \"Year\": 2018}, {\"Unnamed: 0\": 214, \"Date\": \"2018-03-07T00:00:00\", \"Deaths\": 1, \"Injuries\": 2, \"Description\": \"Huffman High School: One student was killed and another injured when shots were fired in the school building, prompting the school to go into lockdown shortly after the bell rang for school dismissal. Law enforcement originally labeled the shooting as \\\"accidental\\\". Subsequently, 17-year-old male student Michael Barber was charged with manslaughter and was charged as \\\"being a certain person forbidden to possess a pistol\\\". Although the school has metal detectors, they were not being used that day. School resource officers were onsite at the time of the shooting. Barber was sentenced to 12 months in jail.\", \"City\": \"Birmingham\", \"State\": \" Alabama\", \"Latitude\": 33.51861, \"Longitude\": -86.81028, \"Casualty\": 3, \"Year\": 2018}, {\"Unnamed: 0\": 215, \"Date\": \"2018-03-07T00:00:00\", \"Deaths\": 0, \"Injuries\": 1, \"Description\": \"Jackson State University: A student was shot inside a dormitory. His injuries were not life-threatening.\", \"City\": \"Jackson\", \"State\": \" Mississippi\", \"Latitude\": 32.29889, \"Longitude\": -90.18472, \"Casualty\": 1, \"Year\": 2018}, {\"Unnamed: 0\": 216, \"Date\": \"2018-03-08T00:00:00\", \"Deaths\": 0, \"Injuries\": 1, \"Description\": \"University of South Alabama: One person was hospitalized after a shooting on campus.\", \"City\": \"Mobile\", \"State\": \" Alabama\", \"Latitude\": 30.69444, \"Longitude\": -88.04306, \"Casualty\": 1, \"Year\": 2018}, {\"Unnamed: 0\": 217, \"Date\": \"2018-03-09T00:00:00\", \"Deaths\": 0, \"Injuries\": 1, \"Description\": \"Frederick Douglass High School: A 16-year-old male student unintentionally shot himself with a gun he had smuggled into a classroom, sustaining an injury to his left thumb. Police announced they were charging him with wanton endangerment and possession of a weapon on school property. After the shooting, the school superintendent announced that stationary metal detectors would be installed and all students would be required to enter through them.\", \"City\": \"Lexington\", \"State\": \" Kentucky\", \"Latitude\": 38.02972, \"Longitude\": -84.49472, \"Casualty\": 1, \"Year\": 2018}, {\"Unnamed: 0\": 218, \"Date\": \"2018-03-13T00:00:00\", \"Deaths\": 0, \"Injuries\": 1, \"Description\": \"Seaside High School: A teacher accidentally discharged a firearm while teaching a public safety class, injuring one student.\", \"City\": \"Seaside\", \"State\": \" California\", \"Latitude\": 36.61111, \"Longitude\": -121.84472, \"Casualty\": 1, \"Year\": 2018}, {\"Unnamed: 0\": 219, \"Date\": \"2018-03-20T00:00:00\", \"Deaths\": 2, \"Injuries\": 1, \"Description\": \"Great Mills High School: The school was placed on lockdown after a shooting occurred in the morning. A 17-year-old male student, armed with a handgun, shot and fatally injured a female student (with whom he had a prior relationship) and wounded a male student. The student shot himself in the head, fatally, while the school resource officer simultaneously shot at him.\\n\", \"City\": \"Great Mills\", \"State\": \" Maryland\", \"Latitude\": 38.23667, \"Longitude\": -76.49722, \"Casualty\": 3, \"Year\": 2018}, {\"Unnamed: 0\": 220, \"Date\": \"2018-04-12T00:00:00\", \"Deaths\": 0, \"Injuries\": 1, \"Description\": \"South Middle School: A man was shot in the stomach in the parking lot during a track meet.\", \"City\": \"Raytown\", \"State\": \" Missouri\", \"Latitude\": 38.995, \"Longitude\": -94.46556, \"Casualty\": 1, \"Year\": 2018}, {\"Unnamed: 0\": 221, \"Date\": \"2018-04-20T00:00:00\", \"Deaths\": 0, \"Injuries\": 1, \"Description\": \"Forest High School: A student shot through the door of the school with a Sawed-off shotgun shortly before a national school walkout for gun control measures. The student had recently dropped out and had planned a much more serious school shooting. His injuries were not life-threatening. Sky Bouche, the 19-year-old former student was arrested.\", \"City\": \"Ocala\", \"State\": \" Florida\", \"Latitude\": 29.18778, \"Longitude\": -82.13056, \"Casualty\": 1, \"Year\": 2018}, {\"Unnamed: 0\": 222, \"Date\": \"2018-05-11T00:00:00\", \"Deaths\": 0, \"Injuries\": 1, \"Description\": \"Highland High School: A 14-year-old former student allegedly fired a semi-automatic rifle shortly before classes were to begin. A 15-year-old was struck in the shoulder but went into surgery and was expected to recover fully. The suspect ditched the gun in a field and was arrested nearby, and faces a charge of attempted murder.\", \"City\": \"Palmdale\", \"State\": \" California\", \"Latitude\": 34.58111, \"Longitude\": -118.10056, \"Casualty\": 1, \"Year\": 2018}, {\"Unnamed: 0\": 223, \"Date\": \"2018-05-16T00:00:00\", \"Deaths\": 0, \"Injuries\": 1, \"Description\": \"Dixon High School: A 19-year-old student recently kicked off the football team allegedly fired shots prior to graduation rehearsal. A school resource officer shot the suspect, who suffered non-life-threatening injuries.\", \"City\": \"Dixon\", \"State\": \" Illinois\", \"Latitude\": 41.84611, \"Longitude\": -89.485, \"Casualty\": 1, \"Year\": 2018}, {\"Unnamed: 0\": 224, \"Date\": \"2018-05-18T00:00:00\", \"Deaths\": 10, \"Injuries\": 13, \"Description\": \"Santa Fe High School shooting: The school was evacuated when fire alarms were pulled at 7:45 am after students said they had heard gunshots. The shooter (Dimitrios Pagourtzis) started in the art room, then went through the art hallway. The shooter had a Remington 870 shotgun and a .38 caliber revolver. Multiple IEDs, pressure cookers, Molotov cocktails, pipe bombs, propane tanks, and other homemade explosives were also found around the school and parking lot.\", \"City\": \"Santa Fe\", \"State\": \" Texas\", \"Latitude\": 29.38056, \"Longitude\": -95.10417, \"Casualty\": 23, \"Year\": 2018}, {\"Unnamed: 0\": 225, \"Date\": \"2018-05-18T00:00:00\", \"Deaths\": 1, \"Injuries\": 3, \"Description\": \"Mount Zion High School: An argument led to a shooting in a parking lot after a high school graduation ceremony for graduates of Perry Learning Center. Mount Zion High School provided overflow parking for people attending the ceremony.\", \"City\": \"Jonesboro\", \"State\": \" Georgia\", \"Latitude\": 33.52444, \"Longitude\": -84.35417, \"Casualty\": 4, \"Year\": 2018}, {\"Unnamed: 0\": 226, \"Date\": \"2018-05-25T00:00:00\", \"Deaths\": 0, \"Injuries\": 2, \"Description\": \"Noblesville West Middle School shooting: Two people were shot and injured in a shooting at Noblesville West Middle School in Noblesville, Indiana. The shooter is an unnamed middle school student who exited his science classroom and re-entered with a gun. When he returned, he shot a female student and the science teacher, identified as Jason Seaman. Seaman was shot in the abdomen, hip, and forearm. The gun was wrestled away by Seaman after both he and the female student were shot.\", \"City\": \"Noblesville\", \"State\": \" Indiana\", \"Latitude\": 40.05, \"Longitude\": -86.02139, \"Casualty\": 2, \"Year\": 2018}, {\"Unnamed: 0\": 227, \"Date\": \"2018-08-04T00:00:00\", \"Deaths\": 1, \"Injuries\": 0, \"Description\": \"19-year-old Thailek Jacob Willis was found in a car in the parking lot of Edgewood High School suffering from a gunshot wound to the upper torso and later died at a local hospital. 15-year-old Jaylin Jerome Brown and 16-year-old Yasin Wallace Powell were later charged with murder and armed robbery as they each were accused of shooting the victim in after attempting to rob him during a drug deal. Brown was found guilty and convicted of second-degree murder, first-degree assault, use of a firearm in the commission of a felony or violent crime, and the possession of a firearm by a person under age 21 and Powell plead guilty to armed robbery and use of a handgun in a fellony and was sentenced to 20 years in prison with all but five years suspended.\", \"City\": \"Edgewood\", \"State\": \" Maryland\", \"Latitude\": 39.41861, \"Longitude\": -76.29444, \"Casualty\": 1, \"Year\": 2018}, {\"Unnamed: 0\": 228, \"Date\": \"2018-08-17T00:00:00\", \"Deaths\": 0, \"Injuries\": 2, \"Description\": \"Two people were shot and injured at a football game in Palm Beach Central High School in Wellington, Florida.\", \"City\": \"Wellington\", \"State\": \" Florida\", \"Latitude\": 26.655, \"Longitude\": -80.25417, \"Casualty\": 2, \"Year\": 2018}, {\"Unnamed: 0\": 229, \"Date\": \"2018-08-20T00:00:00\", \"Deaths\": 0, \"Injuries\": 0, \"Description\": \"A shootout erupted on the campus of Georgia State University the night before classes started.\", \"City\": \"Atlanta\", \"State\": \" Georgia\", \"Latitude\": 33.755, \"Longitude\": -84.39, \"Casualty\": 0, \"Year\": 2018}, {\"Unnamed: 0\": 230, \"Date\": \"2018-08-30T00:00:00\", \"Deaths\": 0, \"Injuries\": 1, \"Description\": \"One student was injured when two students were joking around about guns, and one student discharged a firearm at Balboa High School in San Francisco, California. 4 students were arrested in this incident, and 2 were allowed to go back to school. The school was on lockdown along with three other schools in the area for two hours.\", \"City\": \"San Francisco\", \"State\": \" California\", \"Latitude\": 37.7775, \"Longitude\": -122.41639, \"Casualty\": 1, \"Year\": 2018}, {\"Unnamed: 0\": 231, \"Date\": \"2018-09-05T00:00:00\", \"Deaths\": 1, \"Injuries\": 1, \"Description\": \"William Parsons, a 15-year-old student at Central High School, was shot and killed outside Providence Career and Technical Academy in Providence, Rhode Island. Police said that two young men got into an altercation and shots were fired, hitting the victim, who was uninvolved. The 16-year-old shooter Joel Leocra accidentally shot and injured himself while trying to get away, under a mile from the scene. Leocra was sentenced to life in prison plus 10 years and must serve at least 25 years before being eligible for parole.\", \"City\": \"Providence\", \"State\": \" Rhode Island\", \"Latitude\": 41.82361, \"Longitude\": -71.42222, \"Casualty\": 2, \"Year\": 2018}, {\"Unnamed: 0\": 232, \"Date\": \"2018-09-10T00:00:00\", \"Deaths\": 0, \"Injuries\": 1, \"Description\": \"A teen girl was injured after shots were fired into school bus full of students attending Fairley High School.\", \"City\": \"Memphis\", \"State\": \" Tennessee\", \"Latitude\": 35.1175, \"Longitude\": -89.97111, \"Casualty\": 1, \"Year\": 2018}, {\"Unnamed: 0\": 233, \"Date\": \"2018-09-11T00:00:00\", \"Deaths\": 1, \"Injuries\": 0, \"Description\": \"18-year-old student Dalvin Brown was shot at Canyon Springs High School near the baseball field and later died of his injuries at a hospital. 16-year-old Kayin French was arrested in connection to Brown's death shortly after the incident. His trial was scheduled for February 3, 2020.\", \"City\": \"North Las Vegas\", \"State\": \" Nevada\", \"Latitude\": 36.22861, \"Longitude\": -115.14667, \"Casualty\": 1, \"Year\": 2018}, {\"Unnamed: 0\": 234, \"Date\": \"2018-10-29T00:00:00\", \"Deaths\": 1, \"Injuries\": 1, \"Description\": \"A David W. Butler High School freshman, 16-year-old Jatwan Craig Cuffie, fatally shot sophomore Bobby McKeithen. Cuffie is in custody and charged with first-degree murder. Cuffie was sentenced to 80 to 108 months in prison after pleading guilty to manslaughter.\", \"City\": \"Matthews\", \"State\": \" North Carolina\", \"Latitude\": 35.11694, \"Longitude\": -80.71639, \"Casualty\": 2, \"Year\": 2018}, {\"Unnamed: 0\": 235, \"Date\": \"2018-12-13T00:00:00\", \"Deaths\": 1, \"Injuries\": 0, \"Description\": \"14-year-old Brandon Clegg attempted a shooting on Dennis Intermediate School. He took two guns and threatened to kill his mother's ex-boyfriend if he did not drive him to the school. After his mother called 911, police arrived just before he was able to begin his attack. After exchanging shots with officers, Clegg shot his way through a locked glass door and entered the school, where he continued to shoot at officers. After he was cornered in one of the school's stairwell, Clegg committed suicide by shooting himself.\", \"City\": \"Richmond\", \"State\": \" Indiana\", \"Latitude\": 39.83028, \"Longitude\": -84.89056, \"Casualty\": 1, \"Year\": 2018}, {\"Unnamed: 0\": 236, \"Date\": \"2019-01-02T00:00:00\", \"Deaths\": 0, \"Injuries\": 0, \"Description\": \"School resource officer Dana Jackson, assigned to Snyder High School, was cleaning his service weapon when it discharged. No injuries were reported. Jackson was removed from his assignment at the school.\", \"City\": \"Jersey City\", \"State\": \" New Jersey\", \"Latitude\": 40.71, \"Longitude\": -74.06, \"Casualty\": 0, \"Year\": 2019}, {\"Unnamed: 0\": 237, \"Date\": \"2019-01-03T00:00:00\", \"Deaths\": 0, \"Injuries\": 0, \"Description\": \"Two men were involved in an altercation on the campus of Florida International University when one of the men pulled out a gun and fired into the air. Both men were detained, and no injuries were reported.\", \"City\": \"Miami\", \"State\": \" Florida\", \"Latitude\": 25.77528, \"Longitude\": -80.20889, \"Casualty\": 0, \"Year\": 2019}, {\"Unnamed: 0\": 238, \"Date\": \"2019-01-04T00:00:00\", \"Deaths\": 0, \"Injuries\": 1, \"Description\": \"A former student at the Mississippi University for Women was shot and injured, causing a multi-hour lockdown and a search for a gunman. Police stated they were investigating whether the wound was self-inflicted. No one has been detained in relation to the crime.\", \"City\": \"Columbus\", \"State\": \" Mississippi\", \"Latitude\": 33.50167, \"Longitude\": -88.415, \"Casualty\": 1, \"Year\": 2019}, {\"Unnamed: 0\": 239, \"Date\": \"2019-01-07T00:00:00\", \"Deaths\": 1, \"Injuries\": 0, \"Description\": \"Seventeen-year-old Mohammad Othman was fatally shot in the parking lot of Central Elementary School. Police believe the shooter had a connection to Othman, but neither the shooter nor Othman had a relation to the elementary school.\", \"City\": \"Belmont\", \"State\": \" California\", \"Latitude\": 37.51806, \"Longitude\": -122.29167, \"Casualty\": 1, \"Year\": 2019}, {\"Unnamed: 0\": 240, \"Date\": \"2019-01-11T00:00:00\", \"Deaths\": 1, \"Injuries\": 0, \"Description\": \"A man involved in a custody battle arrived at Cascade Middle School and became enraged. As he was being escorted from the school by police, he began struggling and pulled a gun, according to authorities. The man was shot and killed by the officers. No one else was injured.\", \"City\": \"Eugene\", \"State\": \" Oregon\", \"Latitude\": 44.05194, \"Longitude\": -123.08667, \"Casualty\": 1, \"Year\": 2019}, {\"Unnamed: 0\": 241, \"Date\": \"2019-01-19T00:00:00\", \"Deaths\": 0, \"Injuries\": 2, \"Description\": \"A 16-year-old boy was shot in the head, and a 15-year-old boy was also injured, in a possible robbery incident in a parking lot of Lakewood Middle School in Overland Park, Kansas. The school was not in session at the time. Both victims are expected to recover.\", \"City\": \"Overland Park\", \"State\": \" Kansas\", \"Latitude\": 38.98222, \"Longitude\": -94.67083, \"Casualty\": 2, \"Year\": 2019}, {\"Unnamed: 0\": 242, \"Date\": \"2019-01-25T00:00:00\", \"Deaths\": 0, \"Injuries\": 2, \"Description\": \"Two males were wounded after basketball game at Davidson High School, but between Blount High School and Murphy High School, the 15-year-old suspect fled the scene before law enforcement arrived and was not arrested until February 8. His mother was arrested for harboring a fugitive.\", \"City\": \"Mobile\", \"State\": \" Alabama\", \"Latitude\": 30.69444, \"Longitude\": -88.04306, \"Casualty\": 2, \"Year\": 2019}, {\"Unnamed: 0\": 243, \"Date\": \"2019-01-30T00:00:00\", \"Deaths\": 0, \"Injuries\": 1, \"Description\": \"A man running on the Miller Grove High School track saw someone trying to break into his car, which was parked on school property. When the man confronted the person breaking into his car, he was shot once. The man was taken to a local hospital and listed in stable condition.\", \"City\": \"Lithonia\", \"State\": \" Georgia\", \"Latitude\": 33.71278, \"Longitude\": -84.10583, \"Casualty\": 1, \"Year\": 2019}, {\"Unnamed: 0\": 244, \"Date\": \"2019-01-30T00:00:00\", \"Deaths\": 0, \"Injuries\": 0, \"Description\": \"Shots were fired at Prairie View A&M University's Village 1 basketball court, according to officials. No injuries were reported. Officials are still searching for suspects.\", \"City\": \"Prairie View\", \"State\": \" Texas\", \"Latitude\": 30.08222, \"Longitude\": -95.99167, \"Casualty\": 0, \"Year\": 2019}, {\"Unnamed: 0\": 245, \"Date\": \"2019-01-31T00:00:00\", \"Deaths\": 0, \"Injuries\": 1, \"Description\": \"At Manassas High School, a 14-year-old student was shot by a pellet gun.\", \"City\": \"Memphis\", \"State\": \" Tennessee\", \"Latitude\": 35.1175, \"Longitude\": -89.97111, \"Casualty\": 1, \"Year\": 2019}, {\"Unnamed: 0\": 246, \"Date\": \"2019-01-31T00:00:00\", \"Deaths\": 0, \"Injuries\": 1, \"Description\": \"Seventeen-year-old Mikael Neciosup, a student at Atascocita High School, was arrested after shooting a 16-year-old classmate who was trying to buy marijuana from him. The victim suffered wounds to the foot and torso which were not life-threatening. Neciosup posted Snapchat videos mocking deputies and bragging about the shooting as he was being arrested. He was charged with aggravated assault and is being held on bond.\", \"City\": \"Humble\", \"State\": \" Texas\", \"Latitude\": 29.995, \"Longitude\": -95.265, \"Casualty\": 1, \"Year\": 2019}, {\"Unnamed: 0\": 247, \"Date\": \"2019-02-08T00:00:00\", \"Deaths\": 0, \"Injuries\": 1, \"Description\": \"A 25-year-old was confronted by an adult staff member of Frederick Douglass High School as to his purpose on being on school grounds. In response, the gunman shot and injured the staff member.\", \"City\": \"Baltimore\", \"State\": \" Maryland\", \"Latitude\": 39.28944, \"Longitude\": -76.61528, \"Casualty\": 1, \"Year\": 2019}, {\"Unnamed: 0\": 248, \"Date\": \"2019-02-12T00:00:00\", \"Deaths\": 1, \"Injuries\": 0, \"Description\": \"During a basketball game at the Central Academy of Excellence, an argument between two groups led to the groups being escorted out in a staggered fashion. However, as the second group was being escorted out 15-year-old Anjanique Wright in the group was shot and later pronounced dead at the hospital. Two female students (Jamya D. Norfleet, 21 and Taylor McMillon, 18) were charged with her murder. Norfleet is scheduled to go to trial in October 2020 and McMillon is scheduled for trial in March 2020.\", \"City\": \"Kansas City\", \"State\": \" Missouri\", \"Latitude\": 39.09972, \"Longitude\": -94.57833, \"Casualty\": 1, \"Year\": 2019}, {\"Unnamed: 0\": 249, \"Date\": \"2019-02-14T00:00:00\", \"Deaths\": 0, \"Injuries\": 0, \"Description\": \"Sixteen-year-old student Joshua Owen discharged a single shot in the hallway of Cleveland High School prior to classes beginning. The school was evacuated to a soccer field and then to a nearby arena where students were reunited with their parents. Authorities have not commented on whether Owen was targeting anyone or a possible motive. Owen faced charges of attempted murder, unlawful carrying of a deadly weapon, and unlawful possession of a handgun. Owens suffers from mental illness and was found not fit to stand trial. No injuries were reported.\", \"City\": \"Rio Rancho\", \"State\": \" New Mexico\", \"Latitude\": 35.28611, \"Longitude\": -106.67056, \"Casualty\": 0, \"Year\": 2019}, {\"Unnamed: 0\": 250, \"Date\": \"2019-02-17T00:00:00\", \"Deaths\": 1, \"Injuries\": 0, \"Description\": \"Two adult men in an ongoing dispute about a parking space agreed to meet at Eaglecrest High School to settle the dispute. During the argument, 31-year-old Marcus Johnson produced a handgun and shot 46-year-old Anthony \\\"T.J.\\\" Cunningham. Johnson then fled the campus, returned home and called 911 to report the shooting. He was arrested when deputies arrived at his home. Cunningham, a former CU football player drafted by the Seattle Seahawks, died the next day of his wounds. Johnson is charged with first-degree murder.\", \"City\": \"Arapahoe County\", \"State\": \" Colorado\", \"Latitude\": 39.64, \"Longitude\": -104.33, \"Casualty\": 1, \"Year\": 2019}, {\"Unnamed: 0\": 251, \"Date\": \"2019-02-26T00:00:00\", \"Deaths\": 0, \"Injuries\": 1, \"Description\": \"At Robert E. Lee High School, Michael Woods a 17-year-old student was shot and wounded in the arm. The gunman, a fellow student, had previously shot another student at the school in less than a two-year period.\", \"City\": \"Montgomery\", \"State\": \" Alabama\", \"Latitude\": 32.36167, \"Longitude\": -86.27917, \"Casualty\": 1, \"Year\": 2019}, {\"Unnamed: 0\": 252, \"Date\": \"2019-02-28T00:00:00\", \"Deaths\": 0, \"Injuries\": 0, \"Description\": \"A 17-year-old student at Cheyenne South High School fired a gun toward an unoccupied vehicle in the school parking lot, shattering its window. The student was arrested on suspicion of discharging a firearm in city limits, misdemeanor possession of marijuana, felony burglary, and larceny. No injuries were reported.\", \"City\": \"Cheyenne\", \"State\": \" Wyoming\", \"Latitude\": 41.14, \"Longitude\": -104.82028, \"Casualty\": 0, \"Year\": 2019}, {\"Unnamed: 0\": 253, \"Date\": \"2019-03-07T00:00:00\", \"Deaths\": 0, \"Injuries\": 1, \"Description\": \"A Grambling State University student was injured after an accidental discharge in a dorm by a friends gun.\", \"City\": \"Grambling\", \"State\": \" Louisiana\", \"Latitude\": 32.5275, \"Longitude\": -92.71389, \"Casualty\": 1, \"Year\": 2019}, {\"Unnamed: 0\": 254, \"Date\": \"2019-03-22T00:00:00\", \"Deaths\": 0, \"Injuries\": 1, \"Description\": \"A substitute teacher at Blountsville Elementary School, unlawfully brought a small-caliber weapon into the classroom, which discharged while in his pocket. One student reportedly had minor injuries, and the substitute was arrested.\", \"City\": \"Blounstville\", \"State\": \" Alabama\", \"Latitude\": 34.08167, \"Longitude\": -86.58861, \"Casualty\": 1, \"Year\": 2019}, {\"Unnamed: 0\": 255, \"Date\": \"2019-03-27T00:00:00\", \"Deaths\": 0, \"Injuries\": 1, \"Description\": \"A 10-year-old student was struck in the hand by gunfire that some claim was fired by another student on the bus, while school district officials claim it was a drive-by shooting.\", \"City\": \"Holmes County\", \"State\": \" Mississippi\", \"Latitude\": 33.12, \"Longitude\": -90.09, \"Casualty\": 1, \"Year\": 2019}, {\"Unnamed: 0\": 256, \"Date\": \"2019-04-01T00:00:00\", \"Deaths\": 0, \"Injuries\": 1, \"Description\": \"A 14-year-old male student with a concealed weapon shot a 14-year-old classmate at Prescott High School in what police described as a \\\"premeditated attack\\\". The victim was airlifted to a nearby hospital and is in stable condition. The shooter was apprehended by school resource officers. the shooter was charged as a juvenile\", \"City\": \"Prescott\", \"State\": \" Arkansas\", \"Latitude\": 33.8025, \"Longitude\": -93.38194, \"Casualty\": 1, \"Year\": 2019}, {\"Unnamed: 0\": 257, \"Date\": \"2019-04-25T00:00:00\", \"Deaths\": 0, \"Injuries\": 3, \"Description\": \"At College of the Mainland, a police cadet student, 21-year-old Clayton Whatley, reached into his backpack and accidentally discharged a loaded handgun.  Two other students were shot in the leg, and a third was grazed.\", \"City\": \"Texas City\", \"State\": \" Texas\", \"Latitude\": 29.4, \"Longitude\": -94.93389, \"Casualty\": 3, \"Year\": 2019}, {\"Unnamed: 0\": 258, \"Date\": \"2019-04-25T00:00:00\", \"Deaths\": 0, \"Injuries\": 10, \"Description\": \"At a teen armed with a pellet gun fired at Wynbrooke Elementary School inflicting minor injuries on 10 children\", \"City\": \"Stone Mountain\", \"State\": \" Georgia\", \"Latitude\": 33.80806, \"Longitude\": -84.17028, \"Casualty\": 10, \"Year\": 2019}, {\"Unnamed: 0\": 259, \"Date\": \"2019-04-30T00:00:00\", \"Deaths\": 2, \"Injuries\": 4, \"Description\": \"University of North Carolina at Charlotte shooting: A shooter on the University of North Carolina at Charlotte campus killed two and injured four on the last day of classes. Riley Howell, a student in the classroom, was credited with stopping the shooter.\", \"City\": \"Charlotte\", \"State\": \" North Carolina\", \"Latitude\": 35.22722, \"Longitude\": -80.84306, \"Casualty\": 6, \"Year\": 2019}, {\"Unnamed: 0\": 260, \"Date\": \"2019-05-04T00:00:00\", \"Deaths\": 1, \"Injuries\": 0, \"Description\": \"A 21-year-old Lane Community College student was killed outside a fraternity house at the University of Oregon.\", \"City\": \"Eugene\", \"State\": \" Oregon\", \"Latitude\": 44.05194, \"Longitude\": -123.08667, \"Casualty\": 1, \"Year\": 2019}, {\"Unnamed: 0\": 261, \"Date\": \"2019-05-06T00:00:00\", \"Deaths\": 0, \"Injuries\": 0, \"Description\": \"A person shot through a window of an elementary school bus with 11 kids inside.\", \"City\": \"Riverview\", \"State\": \" Florida\", \"Latitude\": 27.86556, \"Longitude\": -82.32361, \"Casualty\": 0, \"Year\": 2019}, {\"Unnamed: 0\": 262, \"Date\": \"2019-05-07T00:00:00\", \"Deaths\": 1, \"Injuries\": 8, \"Description\": \"STEM School Highlands Ranch shooting: Two shooters killed 1 student and injured 8 others at STEM School Highlands Ranch.\", \"City\": \"Highlands Ranch\", \"State\": \" Colorado\", \"Latitude\": 39.5419358, \"Longitude\": -104.9707643, \"Casualty\": 9, \"Year\": 2019}, {\"Unnamed: 0\": 263, \"Date\": \"2019-05-07T00:00:00\", \"Deaths\": 0, \"Injuries\": 1, \"Description\": \"A man who was not a student at Savannah State University shot and wounded a student at a residence hall.\", \"City\": \"Savannah\", \"State\": \" Georgia\", \"Latitude\": 32.08111, \"Longitude\": -81.09111, \"Casualty\": 1, \"Year\": 2019}, {\"Unnamed: 0\": 264, \"Date\": \"2019-05-08T00:00:00\", \"Deaths\": 0, \"Injuries\": 1, \"Description\": \"A 19-year-old student was shot in the neck and jaw at Second Chance High School when he and two friends were leaving the school by 18-year-old student Andres Salazar who was driving a car. Salazar was charged with Attempted first-degree murder and aggravated battery with a firearm.\", \"City\": \"Chicago\", \"State\": \" Illinois\", \"Latitude\": 41.88194, \"Longitude\": -87.62778, \"Casualty\": 1, \"Year\": 2019}, {\"Unnamed: 0\": 265, \"Date\": \"2019-05-17T00:00:00\", \"Deaths\": 0, \"Injuries\": 1, \"Description\": \"Arthur Davin Jones III, a 19-year-old student shot Shamon Micken, a 16-year-old student at Raines High School. Jones fled the state and was arrested days later in Georgia. Jones is being charged with attempted murder and pled not guilty.\", \"City\": \"Jacksonville\", \"State\": \" Florida\", \"Latitude\": 30.33694, \"Longitude\": -81.66139, \"Casualty\": 1, \"Year\": 2019}, {\"Unnamed: 0\": 266, \"Date\": \"2019-06-21T00:00:00\", \"Deaths\": 0, \"Injuries\": 1, \"Description\": \"During a basketball competition in the gym of Carman-Ainsworth High School during a fight involving dozens of people, shots were fired and Eithan Williams, a 15-year-old student was hit in the chest. Williams left the hospital four days later and doctors said he was lucky to be alive. Four students aged 14\\u201316 were arrested.\", \"City\": \"Flint\", \"State\": \" Michigan\", \"Latitude\": 43.01889, \"Longitude\": -83.69333, \"Casualty\": 1, \"Year\": 2019}, {\"Unnamed: 0\": 267, \"Date\": \"2019-07-02T00:00:00\", \"Deaths\": 0, \"Injuries\": 1, \"Description\": \"At Williwaw Elementary School, a fight broke out on the basketball court which resulted in a teen being shot and injured.\", \"City\": \"Anchorage\", \"State\": \" Alaska\", \"Latitude\": 61.217, \"Longitude\": -149.9, \"Casualty\": 1, \"Year\": 2019}, {\"Unnamed: 0\": 268, \"Date\": \"2019-07-19T00:00:00\", \"Deaths\": 0, \"Injuries\": 0, \"Description\": \"At Monroe Clark Middle School, a teen fired a BB gun at the school, causing minor damage to the campus, then fled the scene, nobody was killed or injured in the incident.\", \"City\": \"San Diego\", \"State\": \" California\", \"Latitude\": 32.715, \"Longitude\": -117.1625, \"Casualty\": 0, \"Year\": 2019}, {\"Unnamed: 0\": 269, \"Date\": \"2019-08-08T00:00:00\", \"Deaths\": 0, \"Injuries\": 0, \"Description\": \"38-year-old Isaiah Johnson, dropped his son off at Blount Elementary School, and then got into an argument with another father over a traffic dispute. He discharged a firearm into the father's vehicle.\", \"City\": \"Montgomery\", \"State\": \" Alabama\", \"Latitude\": 32.36167, \"Longitude\": -86.27917, \"Casualty\": 0, \"Year\": 2019}, {\"Unnamed: 0\": 270, \"Date\": \"2019-08-27T00:00:00\", \"Deaths\": 1, \"Injuries\": 0, \"Description\": \"A student was standing in the lunch line was struck in the jaw by a bullet fired from off campus.\", \"City\": \"Los Angeles\", \"State\": \" California\", \"Latitude\": 34.05, \"Longitude\": -118.25, \"Casualty\": 1, \"Year\": 2019}, {\"Unnamed: 0\": 271, \"Date\": \"2019-08-30T00:00:00\", \"Deaths\": 0, \"Injuries\": 1, \"Description\": \"As spectators were leaving a football game Central Catholic High School. a 16-year-old boy was shot by another teen, neither of the students attended Central Catholic High School and no fights happened before the shooting, no arrests were made.\", \"City\": \"Toledo\", \"State\": \" Ohio\", \"Latitude\": 41.66556, \"Longitude\": -83.57528, \"Casualty\": 1, \"Year\": 2019}, {\"Unnamed: 0\": 272, \"Date\": \"2019-08-31T00:00:00\", \"Deaths\": 0, \"Injuries\": 10, \"Description\": \"17-year-old Deangelo Dejuan Parnell shot 9 people during a confrontation at a stadium where a high school football game was being played. A tenth person suffered a stroke.\", \"City\": \"Mobile\", \"State\": \" Alabama\", \"Latitude\": 30.69444, \"Longitude\": -88.04306, \"Casualty\": 10, \"Year\": 2019}, {\"Unnamed: 0\": 273, \"Date\": \"2019-09-06T00:00:00\", \"Deaths\": 1, \"Injuries\": 0, \"Description\": \"Near the end of a football game at Jeannette High School, Damien Williams and Greg Harper got into an argument outside the stadium, the argument escalated to the point where Williams was shot in the chest by Harper after Williams allegedly punched Harper twice. Williams died and Harper is charged with homicide and reckless endangerment. Harper pled not guilty and is claiming he acted in self-defense.\", \"City\": \"Pittsburgh\", \"State\": \" Pennsylvania\", \"Latitude\": 40.43972, \"Longitude\": -79.97639, \"Casualty\": 1, \"Year\": 2019}, {\"Unnamed: 0\": 274, \"Date\": \"2019-09-13T00:00:00\", \"Deaths\": 0, \"Injuries\": 3, \"Description\": \"After a football game at the school stadium, shots were fired and three teens ages 14 and 19 were injured. No arrests have been made.\", \"City\": \"Newport News\", \"State\": \" Virginia\", \"Latitude\": 37.07083, \"Longitude\": -76.48444, \"Casualty\": 3, \"Year\": 2019}, {\"Unnamed: 0\": 275, \"Date\": \"2019-09-14T00:00:00\", \"Deaths\": 0, \"Injuries\": 2, \"Description\": \"As a youth football game was happening at Eastern Hills High School, parents got into a fight and shots were fired, injuring a woman and her 12-year-old daughter. Thirty-nine-year-old Chanita Holly was arrested and charged with making terroristic threats; a man who was reportedly wearing a skeleton mask is also a suspect in the incident and is believed to be the trigger man.\", \"City\": \"Fort Worth\", \"State\": \" Texas\", \"Latitude\": 32.75, \"Longitude\": -97.333, \"Casualty\": 2, \"Year\": 2019}, {\"Unnamed: 0\": 276, \"Date\": \"2019-09-20T00:00:00\", \"Deaths\": 0, \"Injuries\": 2, \"Description\": \"During the second quarter of a football game between Imhotep Institute Charter High School and Mastery Gratz high school at Marcus memorial stadium, multiple gunshots were fired, a 15-year-old was shot in the thigh and a 14-year-old in the foot. The Police said multiple shell casings were found but it is unclear if the shooting happened in or outside the stadium. No supsects have been arrested.\", \"City\": \"Philadelphia\", \"State\": \" Pennsylvania\", \"Latitude\": 39.95278, \"Longitude\": -75.16361, \"Casualty\": 2, \"Year\": 2019}, {\"Unnamed: 0\": 277, \"Date\": \"2019-09-27T00:00:00\", \"Deaths\": 0, \"Injuries\": 3, \"Description\": \"As people were leaving a football game at De Anza High School against Pinole Valley High School a fight broke out, Gunshots were fired and three teens were injured, A 17-year-old boy was shot in the back of the head, A 16-year-old girl in the upper torso, and another 17-year-old boy in the leg. no arrests were made.\", \"City\": \"Richmond\", \"State\": \" California\", \"Latitude\": 37.93583, \"Longitude\": -122.34778, \"Casualty\": 3, \"Year\": 2019}, {\"Unnamed: 0\": 278, \"Date\": \"2019-10-13T00:00:00\", \"Deaths\": 1, \"Injuries\": 0, \"Description\": \"A 19-year-old student was found unconscious with a bullet wound to his abdomen. Authorities said there were no reports of a shooting or suspicious activity on campus. another student George Wells was later charged with reckless homicide.\", \"City\": \"Nashville\", \"State\": \" Tennessee\", \"Latitude\": 36.16222, \"Longitude\": -86.77444, \"Casualty\": 1, \"Year\": 2019}, {\"Unnamed: 0\": 279, \"Date\": \"2019-10-22T00:00:00\", \"Deaths\": 0, \"Injuries\": 1, \"Description\": \"A 16-year-old student was shot twice, at least once in the abdomen, by a 17-year-old classmate across the street from Ridgway High School, an alternative school next to Santa Rosa High School. The victim was hospitalized in stable condition. The 17-year-old was arrested in a classroom, and the gun used was found later that night in a bush three miles away. He is charged with attempted murder.\", \"City\": \"Santa Rosa\", \"State\": \" California\", \"Latitude\": 38.44861, \"Longitude\": -122.70472, \"Casualty\": 1, \"Year\": 2019}, {\"Unnamed: 0\": 280, \"Date\": \"2019-11-05T00:00:00\", \"Deaths\": 0, \"Injuries\": 1, \"Description\": \"Four people were charged after a fight in Luzerne County that left three students hurt, one of them 19-year-old Noberto Polanco-Rodriguez admitted to shooting one of the students with an orange flare gun that caused a serious injury to one of the student's arms and is charged with aggravated assault. Luis Arizmendy-Nunez, 22; Christhofany Maria, 19; and Jose Antonio Vargas,19, were charged with simple assault.\", \"City\": \"Hazleton\", \"State\": \" Pennsylvania\", \"Latitude\": 40.95889, \"Longitude\": -75.97444, \"Casualty\": 1, \"Year\": 2019}, {\"Unnamed: 0\": 281, \"Date\": \"2019-11-11T00:00:00\", \"Deaths\": 0, \"Injuries\": 1, \"Description\": \"a 19-year-old student who was outside Reginald F. Lewis High School was approached by a masked man who shot him in the leg.\", \"City\": \"Baltimore\", \"State\": \" Maryland\", \"Latitude\": 39.28944, \"Longitude\": -76.61528, \"Casualty\": 1, \"Year\": 2019}, {\"Unnamed: 0\": 282, \"Date\": \"2019-11-13T00:00:00\", \"Deaths\": 1, \"Injuries\": 0, \"Description\": \"A man who was carrying a sword was Fatally shot by a deputy at the courtyard of Esteban Torres High School.\", \"City\": \"Los Angeles\", \"State\": \" California\", \"Latitude\": 34.05, \"Longitude\": -118.25, \"Casualty\": 1, \"Year\": 2019}, {\"Unnamed: 0\": 283, \"Date\": \"2019-11-14T00:00:00\", \"Deaths\": 3, \"Injuries\": 3, \"Description\": \"Saugus High School shooting: Five people were injured, two fatally, in a shooting at a courtyard of Saugus High School. The shooter, a 16-year-old male student, attempted suicide by shooting himself in the head. He was taken into custody and died the next day during hospitalization. The gun used was suspected by police to be a ghost gun.\", \"City\": \"Santa Clarita\", \"State\": \" California\", \"Latitude\": 34.42, \"Longitude\": -118.52, \"Casualty\": 6, \"Year\": 2019}, {\"Unnamed: 0\": 284, \"Date\": \"2019-11-15T00:00:00\", \"Deaths\": 1, \"Injuries\": 2, \"Description\": \"Five men opened fire during a playoff game between the Camden Panthers and the Pleasantville Greyhounds at Pleasantville High School, injuring a 15-year-old boy, a 27-year-old male, and fatally injuring a 10-year-old boy. All five were later arrested for the random act of violence however the injured 27 year-old (who is believed to be the shooters target) has also been charged with unlawful possession of a handgun. The alleged shooter Alvin Wyatt has been charged with murder and attempted murder.\", \"City\": \"Pleasantville\", \"State\": \" New Jersey\", \"Latitude\": 39.388801, \"Longitude\": -74.514288, \"Casualty\": 3, \"Year\": 2019}, {\"Unnamed: 0\": 285, \"Date\": \"2019-11-23T00:00:00\", \"Deaths\": 2, \"Injuries\": 0, \"Description\": \"Two boys, aged 11 and 14-years-old were shot in the parking lot of the Seamless Elementary School around 1 am, while sitting in a minivan. Both boys died of their wounds, one at the scene and the other at the hospital. 18-year-old year Jason Cornejo of Castro Valley and a 17-year-old juvenile from Hayward were arrested on February 14, 2020.\", \"City\": \"Union City\", \"State\": \" California\", \"Latitude\": 37.59639, \"Longitude\": -122.04833, \"Casualty\": 2, \"Year\": 2019}, {\"Unnamed: 0\": 286, \"Date\": \"2019-12-02T00:00:00\", \"Deaths\": 0, \"Injuries\": 1, \"Description\": \"A 17-year-old male student who brought a handgun to Waukesha South High School was shot by a police officer after pointing his gun at him and was in stable condition. The gun was later determined to be a pellet gun.\", \"City\": \"Waukesha\", \"State\": \" Wisconsin\", \"Latitude\": 43.01167, \"Longitude\": -88.23167, \"Casualty\": 1, \"Year\": 2019}, {\"Unnamed: 0\": 287, \"Date\": \"2019-12-03T00:00:00\", \"Deaths\": 0, \"Injuries\": 2, \"Description\": \"Grant Fuhrman, a 16-year-old male student at Oshkosh High School was shot by resource officer Mike Wissink after stabbing him with a Barbecue fork and was in stable condition. Fuhrman was charged with attempted intentional homicide.\", \"City\": \"Oshkosh\", \"State\": \" Wisconsin\", \"Latitude\": 44.02417, \"Longitude\": -88.56111, \"Casualty\": 2, \"Year\": 2019}, {\"Unnamed: 0\": 288, \"Date\": \"2019-12-04T00:00:00\", \"Deaths\": 0, \"Injuries\": 1, \"Description\": \"An individual who was not a student was shot at the edge of campus by a shooter driving a Honda Accord. This resulted in a campus lockdown. One person was injured and transported to a hospital with non-life threatening injuries.\", \"City\": \"Jackson\", \"State\": \" Mississippi\", \"Latitude\": 32.29889, \"Longitude\": -90.18472, \"Casualty\": 1, \"Year\": 2019}, {\"Unnamed: 0\": 289, \"Date\": \"2019-12-16T00:00:00\", \"Deaths\": 0, \"Injuries\": 1, \"Description\": \"A man dropping off his child at the Catholic Academy of New Haven was shot and wounded, and 7 of 10 bullets that were fired in the incident struck the school building. A bullet tore into the walls of a pre-school classroom; no children were hurt.\", \"City\": \"New Haven\", \"State\": \" Connecticut\", \"Latitude\": 41.31, \"Longitude\": -72.92361, \"Casualty\": 1, \"Year\": 2019}, {\"Unnamed: 0\": 290, \"Date\": \"2019-12-19T00:00:00\", \"Deaths\": 1, \"Injuries\": 0, \"Description\": \"A 28-year-old woman was shot and killed at Lely High School and her shooter, 50-year-old Jose Alfredo Avila Pena who was in a relationship with the victim was charged with second-degree murder. The Principal of the school said the shooting was the result of a domestic violence incident. Pena was sentenced to life in prison.\", \"City\": \"Naples\", \"State\": \" Florida\", \"Latitude\": 26.15, \"Longitude\": -81.8, \"Casualty\": 1, \"Year\": 2019}, {\"Unnamed: 0\": 291, \"Date\": \"2020-01-08T00:00:00\", \"Deaths\": 0, \"Injuries\": 1, \"Description\": \"An individual who was not a student accidentally shot himself in the leg in the parking lot of Glades Central High School.\", \"City\": \"Belle Glade\", \"State\": \" Florida\", \"Latitude\": 26.68528, \"Longitude\": -80.67139, \"Casualty\": 1, \"Year\": 2020}, {\"Unnamed: 0\": 292, \"Date\": \"2020-01-11T00:00:00\", \"Deaths\": 1, \"Injuries\": 1, \"Description\": \"A 15-year-old has been arrested after two people were wounded by gunfire during a fight at a high school basketball game between South Oak Cliff and Kimball High School. An 18-year-old man was badly wounded in the shooting, and a Dallas ISD police officer was grazed by a bullet fragment. The 15-year-old suspect, who turned himself in at Dallas police headquarters, was initially charged with aggravated assault; however, after the 18-year-old student died from his injuries, the suspect was charged with murder.\", \"City\": \"Dallas\", \"State\": \" Texas\", \"Latitude\": 32.77917, \"Longitude\": -96.80889, \"Casualty\": 2, \"Year\": 2020}, {\"Unnamed: 0\": 293, \"Date\": \"2020-01-14T00:00:00\", \"Deaths\": 1, \"Injuries\": 0, \"Description\": \"A 19-year-old student was shot in the chest and killed at Bellaire High School. A 16-year-old student was arrested and charged with manslaughter.\", \"City\": \"Bellaire\", \"State\": \" Texas\", \"Latitude\": 29.7070944, \"Longitude\": -95.4673861, \"Casualty\": 1, \"Year\": 2020}, {\"Unnamed: 0\": 294, \"Date\": \"2020-01-14T00:00:00\", \"Deaths\": 0, \"Injuries\": 2, \"Description\": \"An adult male and a 10-year-old child were injured at North Crowley Ninth Grade Campus after a youth basketball game.\", \"City\": \"Fort Worth\", \"State\": \" Texas\", \"Latitude\": 32.75, \"Longitude\": -97.333, \"Casualty\": 2, \"Year\": 2020}, {\"Unnamed: 0\": 295, \"Date\": \"2020-01-23T00:00:00\", \"Deaths\": 0, \"Injuries\": 1, \"Description\": \"A stray bullet fired during a street altercation struck a 9-year-old student at McAuliffe Elementary School.\", \"City\": \"Oxnard\", \"State\": \" California\", \"Latitude\": 34.19139, \"Longitude\": -119.1825, \"Casualty\": 1, \"Year\": 2020}, {\"Unnamed: 0\": 296, \"Date\": \"2020-02-03T00:00:00\", \"Deaths\": 2, \"Injuries\": 1, \"Description\": \"Jacques Dshawn Smith, 21, gained access to Pride Rock Residence hall at Texas A&M University\\u2013Commerce, where he is suspected of shooting his ex-girlfriend Abbaney Matts, 20, and her sister Deja Matts, 19, to death. Abbaney's two-year-old son was also injured during the shooting.\", \"City\": \"Commerce\", \"State\": \" Texas\", \"Latitude\": 33.245, \"Longitude\": -95.9, \"Casualty\": 3, \"Year\": 2020}, {\"Unnamed: 0\": 297, \"Date\": \"2020-09-16T00:00:00\", \"Deaths\": 1, \"Injuries\": 0, \"Description\": \"At Sonora High School in downtown Sonora, a student named Eric Aguiar, 17, was shot and killed in the High School's parking lot.\", \"City\": \"Sonora\", \"State\": \" California\", \"Latitude\": 37.98444, \"Longitude\": -120.38167, \"Casualty\": 1, \"Year\": 2020}, {\"Unnamed: 0\": 298, \"Date\": \"2020-09-16T00:00:00\", \"Deaths\": 0, \"Injuries\": 1, \"Description\": \"Kavion Poplous, 18, was arrested and charged with attempted first-degree murder, aggravated battery, and aggravated discharge of a firearm in the shooting of a student in a dorm at Western Illinois University.\", \"City\": \"Macomb\", \"State\": \" Illinois\", \"Latitude\": 40.4605028, \"Longitude\": -90.6740472, \"Casualty\": 1, \"Year\": 2020}]}}, {\"mode\": \"vega-lite\"});\n",
       "</script>"
      ],
      "text/plain": [
       "alt.HConcatChart(...)"
      ]
     },
     "execution_count": 15,
     "metadata": {},
     "output_type": "execute_result"
    }
   ],
   "source": [
    "(background+deaths)|(casualty+deaths_count)"
   ]
  },
  {
   "cell_type": "markdown",
   "metadata": {},
   "source": [
    "## 6.Sort cases"
   ]
  },
  {
   "cell_type": "code",
   "execution_count": 17,
   "metadata": {},
   "outputs": [
    {
     "data": {
      "text/html": [
       "<div>\n",
       "<style scoped>\n",
       "    .dataframe tbody tr th:only-of-type {\n",
       "        vertical-align: middle;\n",
       "    }\n",
       "\n",
       "    .dataframe tbody tr th {\n",
       "        vertical-align: top;\n",
       "    }\n",
       "\n",
       "    .dataframe thead th {\n",
       "        text-align: right;\n",
       "    }\n",
       "</style>\n",
       "<table border=\"1\" class=\"dataframe\">\n",
       "  <thead>\n",
       "    <tr style=\"text-align: right;\">\n",
       "      <th></th>\n",
       "      <th></th>\n",
       "      <th>count</th>\n",
       "    </tr>\n",
       "    <tr>\n",
       "      <th>State</th>\n",
       "      <th>City</th>\n",
       "      <th></th>\n",
       "    </tr>\n",
       "  </thead>\n",
       "  <tbody>\n",
       "    <tr>\n",
       "      <th>California</th>\n",
       "      <th>Los Angeles</th>\n",
       "      <td>7</td>\n",
       "    </tr>\n",
       "    <tr>\n",
       "      <th>Texas</th>\n",
       "      <th>Houston</th>\n",
       "      <td>5</td>\n",
       "    </tr>\n",
       "    <tr>\n",
       "      <th>Alabama</th>\n",
       "      <th>Mobile</th>\n",
       "      <td>4</td>\n",
       "    </tr>\n",
       "    <tr>\n",
       "      <th rowspan=\"2\" valign=\"top\">Tennessee</th>\n",
       "      <th>Nashville</th>\n",
       "      <td>4</td>\n",
       "    </tr>\n",
       "    <tr>\n",
       "      <th>Memphis</th>\n",
       "      <td>4</td>\n",
       "    </tr>\n",
       "    <tr>\n",
       "      <th>Pennsylvania</th>\n",
       "      <th>Philadelphia</th>\n",
       "      <td>4</td>\n",
       "    </tr>\n",
       "    <tr>\n",
       "      <th>Michigan</th>\n",
       "      <th>Detroit</th>\n",
       "      <td>3</td>\n",
       "    </tr>\n",
       "    <tr>\n",
       "      <th>Florida</th>\n",
       "      <th>Miami</th>\n",
       "      <td>3</td>\n",
       "    </tr>\n",
       "    <tr>\n",
       "      <th>North Carolina</th>\n",
       "      <th>Winston-Salem</th>\n",
       "      <td>3</td>\n",
       "    </tr>\n",
       "    <tr>\n",
       "      <th>Illinois</th>\n",
       "      <th>Chicago</th>\n",
       "      <td>3</td>\n",
       "    </tr>\n",
       "    <tr>\n",
       "      <th rowspan=\"3\" valign=\"top\">Georgia</th>\n",
       "      <th>Savannah</th>\n",
       "      <td>3</td>\n",
       "    </tr>\n",
       "    <tr>\n",
       "      <th>Augusta</th>\n",
       "      <td>3</td>\n",
       "    </tr>\n",
       "    <tr>\n",
       "      <th>Albany</th>\n",
       "      <td>2</td>\n",
       "    </tr>\n",
       "    <tr>\n",
       "      <th>Connecticut</th>\n",
       "      <th>New Haven</th>\n",
       "      <td>2</td>\n",
       "    </tr>\n",
       "    <tr>\n",
       "      <th>Florida</th>\n",
       "      <th>Jacksonville</th>\n",
       "      <td>2</td>\n",
       "    </tr>\n",
       "  </tbody>\n",
       "</table>\n",
       "</div>"
      ],
      "text/plain": [
       "                               count\n",
       "State           City                \n",
       " California     Los Angeles        7\n",
       " Texas          Houston            5\n",
       " Alabama        Mobile             4\n",
       " Tennessee      Nashville          4\n",
       "                Memphis            4\n",
       " Pennsylvania   Philadelphia       4\n",
       " Michigan       Detroit            3\n",
       " Florida        Miami              3\n",
       " North Carolina Winston-Salem      3\n",
       " Illinois       Chicago            3\n",
       " Georgia        Savannah           3\n",
       "                Augusta            3\n",
       "                Albany             2\n",
       " Connecticut    New Haven          2\n",
       " Florida        Jacksonville       2"
      ]
     },
     "execution_count": 17,
     "metadata": {},
     "output_type": "execute_result"
    }
   ],
   "source": [
    "df.groupby(['State','City']).City.agg(['count']).sort_values(by='count',ascending=False).head(15)"
   ]
  },
  {
   "cell_type": "markdown",
   "metadata": {},
   "source": [
    "## 7.Get County information"
   ]
  },
  {
   "cell_type": "code",
   "execution_count": 25,
   "metadata": {},
   "outputs": [],
   "source": [
    "county_table = pd.read_html(\"https://en.wikipedia.org/wiki/User:Michael_J/County_table\", header=0)"
   ]
  },
  {
   "cell_type": "code",
   "execution_count": 30,
   "metadata": {},
   "outputs": [],
   "source": [
    "df_county = county_table[0]"
   ]
  },
  {
   "cell_type": "code",
   "execution_count": 31,
   "metadata": {},
   "outputs": [
    {
     "data": {
      "text/html": [
       "<div>\n",
       "<style scoped>\n",
       "    .dataframe tbody tr th:only-of-type {\n",
       "        vertical-align: middle;\n",
       "    }\n",
       "\n",
       "    .dataframe tbody tr th {\n",
       "        vertical-align: top;\n",
       "    }\n",
       "\n",
       "    .dataframe thead th {\n",
       "        text-align: right;\n",
       "    }\n",
       "</style>\n",
       "<table border=\"1\" class=\"dataframe\">\n",
       "  <thead>\n",
       "    <tr style=\"text-align: right;\">\n",
       "      <th></th>\n",
       "      <th>Sort [1]</th>\n",
       "      <th>State</th>\n",
       "      <th>FIPS</th>\n",
       "      <th>County [2]</th>\n",
       "      <th>County Seat(s) [3]</th>\n",
       "      <th>Population(2010)</th>\n",
       "      <th>Land Areakm²</th>\n",
       "      <th>Land Areami²</th>\n",
       "      <th>Water Areakm²</th>\n",
       "      <th>Water Areami²</th>\n",
       "      <th>Total Areakm²</th>\n",
       "      <th>Total Areami²</th>\n",
       "      <th>Latitude</th>\n",
       "      <th>Longitude</th>\n",
       "    </tr>\n",
       "  </thead>\n",
       "  <tbody>\n",
       "    <tr>\n",
       "      <th>0</th>\n",
       "      <td>1</td>\n",
       "      <td>AL</td>\n",
       "      <td>1001</td>\n",
       "      <td>Autauga</td>\n",
       "      <td>Prattville</td>\n",
       "      <td>54571</td>\n",
       "      <td>1539.582</td>\n",
       "      <td>594.436</td>\n",
       "      <td>25.776</td>\n",
       "      <td>9.952</td>\n",
       "      <td>1565.358</td>\n",
       "      <td>604.388</td>\n",
       "      <td>+32.536382°</td>\n",
       "      <td>–86.644490°</td>\n",
       "    </tr>\n",
       "    <tr>\n",
       "      <th>1</th>\n",
       "      <td>2</td>\n",
       "      <td>AL</td>\n",
       "      <td>1003</td>\n",
       "      <td>Baldwin</td>\n",
       "      <td>Bay Minette</td>\n",
       "      <td>182265</td>\n",
       "      <td>4117.522</td>\n",
       "      <td>1589.784</td>\n",
       "      <td>1133.190</td>\n",
       "      <td>437.527</td>\n",
       "      <td>5250.712</td>\n",
       "      <td>2027.311</td>\n",
       "      <td>+30.659218°</td>\n",
       "      <td>–87.746067°</td>\n",
       "    </tr>\n",
       "    <tr>\n",
       "      <th>2</th>\n",
       "      <td>3</td>\n",
       "      <td>AL</td>\n",
       "      <td>1005</td>\n",
       "      <td>Barbour</td>\n",
       "      <td>Clayton</td>\n",
       "      <td>27457</td>\n",
       "      <td>2291.819</td>\n",
       "      <td>884.876</td>\n",
       "      <td>50.865</td>\n",
       "      <td>19.639</td>\n",
       "      <td>2342.684</td>\n",
       "      <td>904.515</td>\n",
       "      <td>+31.870670°</td>\n",
       "      <td>–85.405456°</td>\n",
       "    </tr>\n",
       "    <tr>\n",
       "      <th>3</th>\n",
       "      <td>4</td>\n",
       "      <td>AL</td>\n",
       "      <td>1007</td>\n",
       "      <td>Bibb</td>\n",
       "      <td>Centreville</td>\n",
       "      <td>22915</td>\n",
       "      <td>1612.481</td>\n",
       "      <td>622.582</td>\n",
       "      <td>9.289</td>\n",
       "      <td>3.587</td>\n",
       "      <td>1621.770</td>\n",
       "      <td>626.169</td>\n",
       "      <td>+33.015893°</td>\n",
       "      <td>–87.127148°</td>\n",
       "    </tr>\n",
       "    <tr>\n",
       "      <th>4</th>\n",
       "      <td>5</td>\n",
       "      <td>AL</td>\n",
       "      <td>1009</td>\n",
       "      <td>Blount</td>\n",
       "      <td>Oneonta</td>\n",
       "      <td>57322</td>\n",
       "      <td>1669.962</td>\n",
       "      <td>644.776</td>\n",
       "      <td>15.157</td>\n",
       "      <td>5.852</td>\n",
       "      <td>1685.119</td>\n",
       "      <td>650.628</td>\n",
       "      <td>+33.977448°</td>\n",
       "      <td>–86.567246°</td>\n",
       "    </tr>\n",
       "  </tbody>\n",
       "</table>\n",
       "</div>"
      ],
      "text/plain": [
       "   Sort [1] State  FIPS County [2] County Seat(s) [3]  Population(2010)  \\\n",
       "0         1    AL  1001    Autauga         Prattville             54571   \n",
       "1         2    AL  1003    Baldwin        Bay Minette            182265   \n",
       "2         3    AL  1005    Barbour            Clayton             27457   \n",
       "3         4    AL  1007       Bibb        Centreville             22915   \n",
       "4         5    AL  1009     Blount            Oneonta             57322   \n",
       "\n",
       "   Land Areakm²  Land Areami² Water Areakm² Water Areami²  Total Areakm²  \\\n",
       "0      1539.582       594.436        25.776         9.952       1565.358   \n",
       "1      4117.522      1589.784      1133.190       437.527       5250.712   \n",
       "2      2291.819       884.876        50.865        19.639       2342.684   \n",
       "3      1612.481       622.582         9.289         3.587       1621.770   \n",
       "4      1669.962       644.776        15.157         5.852       1685.119   \n",
       "\n",
       "   Total Areami²     Latitude    Longitude  \n",
       "0        604.388  +32.536382°  –86.644490°  \n",
       "1       2027.311  +30.659218°  –87.746067°  \n",
       "2        904.515  +31.870670°  –85.405456°  \n",
       "3        626.169  +33.015893°  –87.127148°  \n",
       "4        650.628  +33.977448°  –86.567246°  "
      ]
     },
     "execution_count": 31,
     "metadata": {},
     "output_type": "execute_result"
    }
   ],
   "source": [
    "df_county.head()"
   ]
  },
  {
   "cell_type": "code",
   "execution_count": 77,
   "metadata": {},
   "outputs": [],
   "source": [
    "df_county.to_csv(\"county_df.csv\")"
   ]
  },
  {
   "cell_type": "markdown",
   "metadata": {},
   "source": [
    "## 8. Extract school name by RoBerta model and SpaCy\n",
    "\n",
    "using QA model and NER techniques"
   ]
  },
  {
   "cell_type": "code",
   "execution_count": 18,
   "metadata": {},
   "outputs": [
    {
     "name": "stderr",
     "output_type": "stream",
     "text": [
      "Some weights of RobertaModel were not initialized from the model checkpoint at deepset/roberta-base-squad2 and are newly initialized: ['roberta.pooler.dense.weight', 'roberta.pooler.dense.bias']\n",
      "You should probably TRAIN this model on a down-stream task to be able to use it for predictions and inference.\n"
     ]
    }
   ],
   "source": [
    "from transformers import AutoModelForQuestionAnswering, AutoTokenizer, pipeline\n",
    "model_name = \"deepset/roberta-base-squad2\"\n",
    "\n",
    "# Load model\n",
    "nlp = pipeline('question-answering', model=model_name, tokenizer=model_name)"
   ]
  },
  {
   "cell_type": "code",
   "execution_count": 22,
   "metadata": {},
   "outputs": [],
   "source": [
    "import spacy\n",
    "from spacy import displacy\n",
    "\n",
    "# Load english model: https://spacy.io/models\n",
    "ent = spacy.load('en')"
   ]
  },
  {
   "cell_type": "markdown",
   "metadata": {},
   "source": [
    "### Which school?\n",
    "\n",
    "By asking \"Which school?\"\n",
    "and looking for ORG tag."
   ]
  },
  {
   "cell_type": "code",
   "execution_count": 19,
   "metadata": {},
   "outputs": [],
   "source": [
    "res = []\n",
    "for text in df['Description'].values:\n",
    "    QA_input = {\n",
    "    'question': 'Which school?',\n",
    "    'context':text\n",
    "    }\n",
    "    res.append(nlp(QA_input))"
   ]
  },
  {
   "cell_type": "code",
   "execution_count": 42,
   "metadata": {},
   "outputs": [],
   "source": [
    "lst_school = []\n",
    "for i in res:\n",
    "    lst_school.append(i['answer'])"
   ]
  },
  {
   "cell_type": "code",
   "execution_count": 44,
   "metadata": {},
   "outputs": [],
   "source": [
    "#df.drop(columns=['Unnamed: 0'],inplace =True)"
   ]
  },
  {
   "cell_type": "code",
   "execution_count": 48,
   "metadata": {},
   "outputs": [],
   "source": [
    "df[\"School\"] = lst_school"
   ]
  },
  {
   "cell_type": "code",
   "execution_count": 72,
   "metadata": {},
   "outputs": [],
   "source": [
    "# check text with ORG\n",
    "def check_ner(text):\n",
    "    doc = ent(text)\n",
    "    count_org = 0\n",
    "    count_error = 0\n",
    "    text = []\n",
    "    for i in doc.ents:\n",
    "        if i.label_ =='ORG':\n",
    "            text.append(i.text)\n",
    "    combined_text = ' '.join(text)\n",
    "    return combined_text\n",
    "            "
   ]
  },
  {
   "cell_type": "code",
   "execution_count": 73,
   "metadata": {},
   "outputs": [],
   "source": [
    "df[\"ner\"] = df[\"Description\"].map(lambda x:check_ner(x))"
   ]
  },
  {
   "cell_type": "code",
   "execution_count": 76,
   "metadata": {},
   "outputs": [],
   "source": [
    "df.to_csv(\"with_school_data.csv\")"
   ]
  }
 ],
 "metadata": {
  "kernelspec": {
   "display_name": "Python 3",
   "language": "python",
   "name": "python3"
  },
  "language_info": {
   "codemirror_mode": {
    "name": "ipython",
    "version": 3
   },
   "file_extension": ".py",
   "mimetype": "text/x-python",
   "name": "python",
   "nbconvert_exporter": "python",
   "pygments_lexer": "ipython3",
   "version": "3.7.4"
  }
 },
 "nbformat": 4,
 "nbformat_minor": 4
}
